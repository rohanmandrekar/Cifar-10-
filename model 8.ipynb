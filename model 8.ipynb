{
  "nbformat": 4,
  "nbformat_minor": 0,
  "metadata": {
    "colab": {
      "name": "tester.ipynb",
      "provenance": []
    },
    "kernelspec": {
      "name": "python3",
      "display_name": "Python 3"
    },
    "language_info": {
      "name": "python"
    },
    "accelerator": "GPU",
    "widgets": {
      "application/vnd.jupyter.widget-state+json": {
        "51a88a3a7e5c4efb9e5fe616abee1e6e": {
          "model_module": "@jupyter-widgets/controls",
          "model_name": "HBoxModel",
          "state": {
            "_view_name": "HBoxView",
            "_dom_classes": [],
            "_model_name": "HBoxModel",
            "_view_module": "@jupyter-widgets/controls",
            "_model_module_version": "1.5.0",
            "_view_count": null,
            "_view_module_version": "1.5.0",
            "box_style": "",
            "layout": "IPY_MODEL_dd89d494eb334f92a2468a8e42128e85",
            "_model_module": "@jupyter-widgets/controls",
            "children": [
              "IPY_MODEL_b6a67d22357d4c53a949e23f8deee59e",
              "IPY_MODEL_c405d2b3cd4242998d9fdf5a9aca09ee"
            ]
          }
        },
        "dd89d494eb334f92a2468a8e42128e85": {
          "model_module": "@jupyter-widgets/base",
          "model_name": "LayoutModel",
          "state": {
            "_view_name": "LayoutView",
            "grid_template_rows": null,
            "right": null,
            "justify_content": null,
            "_view_module": "@jupyter-widgets/base",
            "overflow": null,
            "_model_module_version": "1.2.0",
            "_view_count": null,
            "flex_flow": null,
            "width": null,
            "min_width": null,
            "border": null,
            "align_items": null,
            "bottom": null,
            "_model_module": "@jupyter-widgets/base",
            "top": null,
            "grid_column": null,
            "overflow_y": null,
            "overflow_x": null,
            "grid_auto_flow": null,
            "grid_area": null,
            "grid_template_columns": null,
            "flex": null,
            "_model_name": "LayoutModel",
            "justify_items": null,
            "grid_row": null,
            "max_height": null,
            "align_content": null,
            "visibility": null,
            "align_self": null,
            "height": null,
            "min_height": null,
            "padding": null,
            "grid_auto_rows": null,
            "grid_gap": null,
            "max_width": null,
            "order": null,
            "_view_module_version": "1.2.0",
            "grid_template_areas": null,
            "object_position": null,
            "object_fit": null,
            "grid_auto_columns": null,
            "margin": null,
            "display": null,
            "left": null
          }
        },
        "b6a67d22357d4c53a949e23f8deee59e": {
          "model_module": "@jupyter-widgets/controls",
          "model_name": "FloatProgressModel",
          "state": {
            "_view_name": "ProgressView",
            "style": "IPY_MODEL_fe5f8cd91ad1415b82299209ebac609c",
            "_dom_classes": [],
            "description": "",
            "_model_name": "FloatProgressModel",
            "bar_style": "success",
            "max": 170498071,
            "_view_module": "@jupyter-widgets/controls",
            "_model_module_version": "1.5.0",
            "value": 170498071,
            "_view_count": null,
            "_view_module_version": "1.5.0",
            "orientation": "horizontal",
            "min": 0,
            "description_tooltip": null,
            "_model_module": "@jupyter-widgets/controls",
            "layout": "IPY_MODEL_5cc4fd03e673421daa980e9b0934fc9b"
          }
        },
        "c405d2b3cd4242998d9fdf5a9aca09ee": {
          "model_module": "@jupyter-widgets/controls",
          "model_name": "HTMLModel",
          "state": {
            "_view_name": "HTMLView",
            "style": "IPY_MODEL_73c3df9b991b429d807f4fb7a0619c07",
            "_dom_classes": [],
            "description": "",
            "_model_name": "HTMLModel",
            "placeholder": "​",
            "_view_module": "@jupyter-widgets/controls",
            "_model_module_version": "1.5.0",
            "value": " 170499072/? [00:05&lt;00:00, 29097635.69it/s]",
            "_view_count": null,
            "_view_module_version": "1.5.0",
            "description_tooltip": null,
            "_model_module": "@jupyter-widgets/controls",
            "layout": "IPY_MODEL_53f52e7e8d3e4168baeed3151a0edde4"
          }
        },
        "fe5f8cd91ad1415b82299209ebac609c": {
          "model_module": "@jupyter-widgets/controls",
          "model_name": "ProgressStyleModel",
          "state": {
            "_view_name": "StyleView",
            "_model_name": "ProgressStyleModel",
            "description_width": "initial",
            "_view_module": "@jupyter-widgets/base",
            "_model_module_version": "1.5.0",
            "_view_count": null,
            "_view_module_version": "1.2.0",
            "bar_color": null,
            "_model_module": "@jupyter-widgets/controls"
          }
        },
        "5cc4fd03e673421daa980e9b0934fc9b": {
          "model_module": "@jupyter-widgets/base",
          "model_name": "LayoutModel",
          "state": {
            "_view_name": "LayoutView",
            "grid_template_rows": null,
            "right": null,
            "justify_content": null,
            "_view_module": "@jupyter-widgets/base",
            "overflow": null,
            "_model_module_version": "1.2.0",
            "_view_count": null,
            "flex_flow": null,
            "width": null,
            "min_width": null,
            "border": null,
            "align_items": null,
            "bottom": null,
            "_model_module": "@jupyter-widgets/base",
            "top": null,
            "grid_column": null,
            "overflow_y": null,
            "overflow_x": null,
            "grid_auto_flow": null,
            "grid_area": null,
            "grid_template_columns": null,
            "flex": null,
            "_model_name": "LayoutModel",
            "justify_items": null,
            "grid_row": null,
            "max_height": null,
            "align_content": null,
            "visibility": null,
            "align_self": null,
            "height": null,
            "min_height": null,
            "padding": null,
            "grid_auto_rows": null,
            "grid_gap": null,
            "max_width": null,
            "order": null,
            "_view_module_version": "1.2.0",
            "grid_template_areas": null,
            "object_position": null,
            "object_fit": null,
            "grid_auto_columns": null,
            "margin": null,
            "display": null,
            "left": null
          }
        },
        "73c3df9b991b429d807f4fb7a0619c07": {
          "model_module": "@jupyter-widgets/controls",
          "model_name": "DescriptionStyleModel",
          "state": {
            "_view_name": "StyleView",
            "_model_name": "DescriptionStyleModel",
            "description_width": "",
            "_view_module": "@jupyter-widgets/base",
            "_model_module_version": "1.5.0",
            "_view_count": null,
            "_view_module_version": "1.2.0",
            "_model_module": "@jupyter-widgets/controls"
          }
        },
        "53f52e7e8d3e4168baeed3151a0edde4": {
          "model_module": "@jupyter-widgets/base",
          "model_name": "LayoutModel",
          "state": {
            "_view_name": "LayoutView",
            "grid_template_rows": null,
            "right": null,
            "justify_content": null,
            "_view_module": "@jupyter-widgets/base",
            "overflow": null,
            "_model_module_version": "1.2.0",
            "_view_count": null,
            "flex_flow": null,
            "width": null,
            "min_width": null,
            "border": null,
            "align_items": null,
            "bottom": null,
            "_model_module": "@jupyter-widgets/base",
            "top": null,
            "grid_column": null,
            "overflow_y": null,
            "overflow_x": null,
            "grid_auto_flow": null,
            "grid_area": null,
            "grid_template_columns": null,
            "flex": null,
            "_model_name": "LayoutModel",
            "justify_items": null,
            "grid_row": null,
            "max_height": null,
            "align_content": null,
            "visibility": null,
            "align_self": null,
            "height": null,
            "min_height": null,
            "padding": null,
            "grid_auto_rows": null,
            "grid_gap": null,
            "max_width": null,
            "order": null,
            "_view_module_version": "1.2.0",
            "grid_template_areas": null,
            "object_position": null,
            "object_fit": null,
            "grid_auto_columns": null,
            "margin": null,
            "display": null,
            "left": null
          }
        }
      }
    }
  },
  "cells": [
    {
      "cell_type": "code",
      "metadata": {
        "id": "20i0i8GEShlM"
      },
      "source": [
        "%matplotlib inline"
      ],
      "execution_count": 1,
      "outputs": []
    },
    {
      "cell_type": "code",
      "metadata": {
        "id": "mnzlmZgwSpZw"
      },
      "source": [
        "import torch\n",
        "import torchvision\n",
        "import torchvision.transforms as transforms"
      ],
      "execution_count": 2,
      "outputs": []
    },
    {
      "cell_type": "code",
      "metadata": {
        "colab": {
          "base_uri": "https://localhost:8080/"
        },
        "id": "_Fu4U5h1SrdE",
        "outputId": "933e8256-1d73-4ecb-baa9-6e0f46701f97"
      },
      "source": [
        "device = torch.device(\"cuda:0\" if torch.cuda.is_available() else \"cpu\")\n",
        "\n",
        "# Assuming that we are on a CUDA machine, this should print a CUDA device:\n",
        "print(device)"
      ],
      "execution_count": 3,
      "outputs": [
        {
          "output_type": "stream",
          "text": [
            "cuda:0\n"
          ],
          "name": "stdout"
        }
      ]
    },
    {
      "cell_type": "code",
      "metadata": {
        "colab": {
          "base_uri": "https://localhost:8080/",
          "height": 116,
          "referenced_widgets": [
            "51a88a3a7e5c4efb9e5fe616abee1e6e",
            "dd89d494eb334f92a2468a8e42128e85",
            "b6a67d22357d4c53a949e23f8deee59e",
            "c405d2b3cd4242998d9fdf5a9aca09ee",
            "fe5f8cd91ad1415b82299209ebac609c",
            "5cc4fd03e673421daa980e9b0934fc9b",
            "73c3df9b991b429d807f4fb7a0619c07",
            "53f52e7e8d3e4168baeed3151a0edde4"
          ]
        },
        "id": "ckP0kccLSrlh",
        "outputId": "7f87229e-cb5d-4de9-8a16-ec32c622eecb"
      },
      "source": [
        "transform = transforms.Compose(\n",
        "    [transforms.ToTensor(),\n",
        "     transforms.Normalize((0.5, 0.5, 0.5), (0.5, 0.5, 0.5)),\n",
        "     transforms.RandomHorizontalFlip(p=1),\n",
        "     transforms.RandomVerticalFlip(p=1),\n",
        "     transforms.RandomRotation(degrees = 45)\n",
        "     ])\n",
        "\n",
        "# transform_test=[transforms.ToTensor(),\n",
        "#                 transforms.Normalize((0.5,0.5,0.5),(0.5,0.5,0.5))]\n",
        "\n",
        "trainset = torchvision.datasets.CIFAR10(root='./data', train=True,\n",
        "                                        download=True, transform=transform)\n",
        "trainloader = torch.utils.data.DataLoader(trainset, batch_size=4,\n",
        "                                          shuffle=True, num_workers=2)\n",
        "\n",
        "testset = torchvision.datasets.CIFAR10(root='./data', train=False,\n",
        "                                       download=True, transform=transform)\n",
        "testloader = torch.utils.data.DataLoader(testset, batch_size=4,\n",
        "                                         shuffle=False, num_workers=2)\n",
        "\n",
        "classes = ('plane', 'car', 'bird', 'cat',\n",
        "           'deer', 'dog', 'frog', 'horse', 'ship', 'truck')\n"
      ],
      "execution_count": 4,
      "outputs": [
        {
          "output_type": "stream",
          "text": [
            "Downloading https://www.cs.toronto.edu/~kriz/cifar-10-python.tar.gz to ./data/cifar-10-python.tar.gz\n"
          ],
          "name": "stdout"
        },
        {
          "output_type": "display_data",
          "data": {
            "application/vnd.jupyter.widget-view+json": {
              "model_id": "51a88a3a7e5c4efb9e5fe616abee1e6e",
              "version_minor": 0,
              "version_major": 2
            },
            "text/plain": [
              "HBox(children=(FloatProgress(value=0.0, max=170498071.0), HTML(value='')))"
            ]
          },
          "metadata": {
            "tags": []
          }
        },
        {
          "output_type": "stream",
          "text": [
            "\n",
            "Extracting ./data/cifar-10-python.tar.gz to ./data\n",
            "Files already downloaded and verified\n"
          ],
          "name": "stdout"
        }
      ]
    },
    {
      "cell_type": "code",
      "metadata": {
        "colab": {
          "base_uri": "https://localhost:8080/",
          "height": 155
        },
        "id": "wKtmjuQZSroM",
        "outputId": "5d551294-78b7-494e-e790-7289df267a42"
      },
      "source": [
        "import matplotlib.pyplot as plt\n",
        "import numpy as np\n",
        "\n",
        "# functions to show an image\n",
        "\n",
        "\n",
        "def imshow(img):\n",
        "    img = img / 2 + 0.5     # unnormalize\n",
        "    npimg = img.numpy()\n",
        "    plt.imshow(np.transpose(npimg, (1, 2, 0)))\n",
        "    plt.show()\n",
        "\n",
        "\n",
        "# get some random training images\n",
        "dataiter = iter(trainloader)\n",
        "images, labels = dataiter.next()\n",
        "\n",
        "# show images\n",
        "imshow(torchvision.utils.make_grid(images))\n",
        "# print labels\n",
        "print(' '.join('%5s' % classes[labels[j]] for j in range(4)))\n",
        "\n"
      ],
      "execution_count": 5,
      "outputs": [
        {
          "output_type": "display_data",
          "data": {
            "image/png": "[encoded data removed]",
            "text/plain": [
              "<Figure size 432x288 with 1 Axes>"
            ]
          },
          "metadata": {
            "tags": [],
            "needs_background": "light"
          }
        },
        {
          "output_type": "stream",
          "text": [
            "horse   cat  ship   dog\n"
          ],
          "name": "stdout"
        }
      ]
    },
    {
      "cell_type": "code",
      "metadata": {
        "colab": {
          "base_uri": "https://localhost:8080/"
        },
        "id": "9z7A10q6SrsJ",
        "outputId": "06f5b47e-4725-4260-b36a-539a61993286"
      },
      "source": [
        "import torch.nn as nn\n",
        "import torch.nn.functional as F\n",
        "\n",
        "\n",
        "class Net(nn.Module):\n",
        "    def __init__(self):\n",
        "        super(Net, self).__init__()\n",
        "        self.conv1 = nn.Conv2d(3, 64, 5)\n",
        "        self.pool = nn.MaxPool2d(2, 2)\n",
        "        self.conv2 = nn.Conv2d(64, 128, 5)\n",
        "        self.conv3 = nn.Conv2d(128,256,5)\n",
        "        self.fc1 = nn.Linear(256*3*3, 1600)\n",
        "        self.fc7 = nn.Linear(1600, 800)\n",
        "        self.fc6 = nn.Linear(800,400)\n",
        "        self.fc2 = nn.Linear(400,200)\n",
        "        self.fc3 = nn.Linear(200,100)\n",
        "        self.fc4 = nn.Linear(100, 50)\n",
        "        self.fc5 = nn.Linear(50, 10)\n",
        "        self.dropout = nn.Dropout(p=0.1)\n",
        "        \n",
        "\n",
        "    def forward(self, x):\n",
        "        x = self.pool(F.relu(self.conv1(x)))\n",
        "        x = F.relu(self.conv2(x))\n",
        "        x = self.pool(F.relu(self.conv3(x)))\n",
        "        x = x.view(-1, 256*3*3)\n",
        "        x = F.relu(self.fc1(x))\n",
        "        x = F.relu(self.fc7(x))\n",
        "        x = F.relu(self.fc6(x))\n",
        "        x = self.dropout(x)\n",
        "        x = F.relu(self.fc2(x))\n",
        "        x = F.relu(self.fc3(x))\n",
        "        x = self.dropout(x)\n",
        "        x = F.relu(self.fc4(x))\n",
        "        x = self.fc5(x)\n",
        "        return x\n",
        "\n",
        "\n",
        "net = Net()\n",
        "net=net.to(device)\n",
        "print(net)\n"
      ],
      "execution_count": 8,
      "outputs": [
        {
          "output_type": "stream",
          "text": [
            "Net(\n",
            "  (conv1): Conv2d(3, 64, kernel_size=(5, 5), stride=(1, 1))\n",
            "  (pool): MaxPool2d(kernel_size=2, stride=2, padding=0, dilation=1, ceil_mode=False)\n",
            "  (conv2): Conv2d(64, 128, kernel_size=(5, 5), stride=(1, 1))\n",
            "  (conv3): Conv2d(128, 256, kernel_size=(5, 5), stride=(1, 1))\n",
            "  (fc1): Linear(in_features=2304, out_features=1600, bias=True)\n",
            "  (fc7): Linear(in_features=1600, out_features=800, bias=True)\n",
            "  (fc6): Linear(in_features=800, out_features=400, bias=True)\n",
            "  (fc2): Linear(in_features=400, out_features=200, bias=True)\n",
            "  (fc3): Linear(in_features=200, out_features=100, bias=True)\n",
            "  (fc4): Linear(in_features=100, out_features=50, bias=True)\n",
            "  (fc5): Linear(in_features=50, out_features=10, bias=True)\n",
            "  (dropout): Dropout(p=0.1, inplace=False)\n",
            ")\n"
          ],
          "name": "stdout"
        }
      ]
    },
    {
      "cell_type": "code",
      "metadata": {
        "id": "DGF4pjOaSru0"
      },
      "source": [
        "import torch.optim as optim\n",
        "\n",
        "criterion = nn.CrossEntropyLoss()\n",
        "optimizer = optim.SGD(net.parameters(), lr=0.001, momentum=0.9)\n"
      ],
      "execution_count": 9,
      "outputs": []
    },
    {
      "cell_type": "code",
      "metadata": {
        "colab": {
          "base_uri": "https://localhost:8080/"
        },
        "id": "jXZoJui6Sry_",
        "outputId": "d3b32039-c144-4c6f-c389-9246851f7cb1"
      },
      "source": [
        "# PATH='./cifar_net1.pth'\n",
        "# nettorch.load(PATH)\n",
        "\n",
        "for epoch in range(25):  # loop over the dataset multiple times\n",
        "\n",
        "    running_loss = 0.0\n",
        "    total_train = 0\n",
        "    correct_train = 0\n",
        "    for i, data in enumerate(trainloader, 0):\n",
        "        # get the inputs; data is a list of [inputs, labels]\n",
        "        inputs, labels = data[0].to(device), data[1].to(device)\n",
        "\n",
        "        # zero the parameter gradients\n",
        "        optimizer.zero_grad()\n",
        "\n",
        "        # forward + backward + optimize\n",
        "        outputs = net(inputs)\n",
        "        loss = criterion(outputs, labels)\n",
        "        loss.backward()\n",
        "        optimizer.step()\n",
        "\n",
        "        # print statistics\n",
        "        running_loss += loss.item()\n",
        "\n",
        "        # accuracy source: https://discuss.pytorch.org/t/calculate-train-accuracy-of-the-model-in-segmentation-task/33581\n",
        "        _, predicted = torch.max(outputs.data, 1)\n",
        "        total_train += labels.size(0)\n",
        "        correct_train += predicted.eq(labels).sum().item()\n",
        "        train_accuracy = 100 * correct_train / total_train\n",
        "        #avg_accuracy = train_accuracy / len(train_loader)\n",
        "\n",
        "\n",
        "        if i % 2000 == 1999:    # print every 2000 mini-batches\n",
        "            print('[%d, %5d] loss: %.3f' %\n",
        "                  (epoch + 1, i + 1, running_loss / 2000))\n",
        "            print(\"training accuracy : \",train_accuracy)\n",
        "            running_loss = 0.0\n",
        "\n",
        "print('Finished Training')"
      ],
      "execution_count": 11,
      "outputs": [
        {
          "output_type": "stream",
          "text": [
            "[1,  2000] loss: 0.383\n",
            "training accuracy :  87.275\n",
            "[1,  4000] loss: 0.404\n",
            "training accuracy :  86.9125\n",
            "[1,  6000] loss: 0.425\n",
            "training accuracy :  86.60833333333333\n",
            "[1,  8000] loss: 0.403\n",
            "training accuracy :  86.6125\n",
            "[1, 10000] loss: 0.415\n",
            "training accuracy :  86.5075\n",
            "[1, 12000] loss: 0.440\n",
            "training accuracy :  86.27916666666667\n",
            "[2,  2000] loss: 0.373\n",
            "training accuracy :  87.9\n",
            "[2,  4000] loss: 0.379\n",
            "training accuracy :  87.7\n",
            "[2,  6000] loss: 0.398\n",
            "training accuracy :  87.46666666666667\n",
            "[2,  8000] loss: 0.394\n",
            "training accuracy :  87.38125\n",
            "[2, 10000] loss: 0.403\n",
            "training accuracy :  87.26\n",
            "[2, 12000] loss: 0.410\n",
            "training accuracy :  87.11875\n",
            "[3,  2000] loss: 0.345\n",
            "training accuracy :  88.7\n",
            "[3,  4000] loss: 0.370\n",
            "training accuracy :  88.31875\n",
            "[3,  6000] loss: 0.369\n",
            "training accuracy :  88.08333333333333\n",
            "[3,  8000] loss: 0.374\n",
            "training accuracy :  87.878125\n",
            "[3, 10000] loss: 0.363\n",
            "training accuracy :  87.8825\n",
            "[3, 12000] loss: 0.379\n",
            "training accuracy :  87.80833333333334\n",
            "[4,  2000] loss: 0.331\n",
            "training accuracy :  89.3125\n",
            "[4,  4000] loss: 0.349\n",
            "training accuracy :  88.95\n",
            "[4,  6000] loss: 0.351\n",
            "training accuracy :  88.72083333333333\n",
            "[4,  8000] loss: 0.344\n",
            "training accuracy :  88.721875\n",
            "[4, 10000] loss: 0.365\n",
            "training accuracy :  88.5675\n",
            "[4, 12000] loss: 0.353\n",
            "training accuracy :  88.47708333333334\n",
            "[5,  2000] loss: 0.302\n",
            "training accuracy :  90.2625\n",
            "[5,  4000] loss: 0.324\n",
            "training accuracy :  89.7875\n",
            "[5,  6000] loss: 0.322\n",
            "training accuracy :  89.75\n",
            "[5,  8000] loss: 0.326\n",
            "training accuracy :  89.6125\n",
            "[5, 10000] loss: 0.343\n",
            "training accuracy :  89.4475\n",
            "[5, 12000] loss: 0.344\n",
            "training accuracy :  89.32708333333333\n",
            "[6,  2000] loss: 0.294\n",
            "training accuracy :  90.325\n",
            "[6,  4000] loss: 0.317\n",
            "training accuracy :  90.0375\n",
            "[6,  6000] loss: 0.294\n",
            "training accuracy :  90.1\n",
            "[6,  8000] loss: 0.331\n",
            "training accuracy :  89.884375\n",
            "[6, 10000] loss: 0.332\n",
            "training accuracy :  89.705\n",
            "[6, 12000] loss: 0.339\n",
            "training accuracy :  89.5875\n",
            "[7,  2000] loss: 0.285\n",
            "training accuracy :  90.8\n",
            "[7,  4000] loss: 0.291\n",
            "training accuracy :  90.59375\n",
            "[7,  6000] loss: 0.306\n",
            "training accuracy :  90.4125\n",
            "[7,  8000] loss: 0.300\n",
            "training accuracy :  90.41875\n",
            "[7, 10000] loss: 0.320\n",
            "training accuracy :  90.29\n",
            "[7, 12000] loss: 0.306\n",
            "training accuracy :  90.30833333333334\n",
            "[8,  2000] loss: 0.246\n",
            "training accuracy :  91.8625\n",
            "[8,  4000] loss: 0.284\n",
            "training accuracy :  91.3375\n",
            "[8,  6000] loss: 0.279\n",
            "training accuracy :  91.1\n",
            "[8,  8000] loss: 0.290\n",
            "training accuracy :  90.89375\n",
            "[8, 10000] loss: 0.286\n",
            "training accuracy :  90.81\n",
            "[8, 12000] loss: 0.295\n",
            "training accuracy :  90.7375\n",
            "[9,  2000] loss: 0.247\n",
            "training accuracy :  91.8875\n",
            "[9,  4000] loss: 0.267\n",
            "training accuracy :  91.6625\n",
            "[9,  6000] loss: 0.268\n",
            "training accuracy :  91.52916666666667\n",
            "[9,  8000] loss: 0.282\n",
            "training accuracy :  91.384375\n",
            "[9, 10000] loss: 0.273\n",
            "training accuracy :  91.26\n",
            "[9, 12000] loss: 0.277\n",
            "training accuracy :  91.20416666666667\n",
            "[10,  2000] loss: 0.231\n",
            "training accuracy :  91.9\n",
            "[10,  4000] loss: 0.261\n",
            "training accuracy :  91.6625\n",
            "[10,  6000] loss: 0.243\n",
            "training accuracy :  91.85\n",
            "[10,  8000] loss: 0.276\n",
            "training accuracy :  91.690625\n",
            "[10, 10000] loss: 0.265\n",
            "training accuracy :  91.5675\n",
            "[10, 12000] loss: 0.269\n",
            "training accuracy :  91.47291666666666\n",
            "[11,  2000] loss: 0.229\n",
            "training accuracy :  92.5625\n",
            "[11,  4000] loss: 0.243\n",
            "training accuracy :  92.3\n",
            "[11,  6000] loss: 0.247\n",
            "training accuracy :  92.075\n",
            "[11,  8000] loss: 0.249\n",
            "training accuracy :  92.0375\n",
            "[11, 10000] loss: 0.259\n",
            "training accuracy :  92.005\n",
            "[11, 12000] loss: 0.277\n",
            "training accuracy :  91.82708333333333\n",
            "[12,  2000] loss: 0.222\n",
            "training accuracy :  92.9375\n",
            "[12,  4000] loss: 0.240\n",
            "training accuracy :  92.63125\n",
            "[12,  6000] loss: 0.234\n",
            "training accuracy :  92.60833333333333\n",
            "[12,  8000] loss: 0.236\n",
            "training accuracy :  92.56875\n",
            "[12, 10000] loss: 0.238\n",
            "training accuracy :  92.5325\n",
            "[12, 12000] loss: 0.226\n",
            "training accuracy :  92.47708333333334\n",
            "[13,  2000] loss: 0.209\n",
            "training accuracy :  93.0125\n",
            "[13,  4000] loss: 0.225\n",
            "training accuracy :  92.86875\n",
            "[13,  6000] loss: 0.217\n",
            "training accuracy :  92.9\n",
            "[13,  8000] loss: 0.225\n",
            "training accuracy :  92.840625\n",
            "[13, 10000] loss: 0.221\n",
            "training accuracy :  92.8775\n",
            "[13, 12000] loss: 0.235\n",
            "training accuracy :  92.73541666666667\n",
            "[14,  2000] loss: 0.190\n",
            "training accuracy :  93.95\n",
            "[14,  4000] loss: 0.212\n",
            "training accuracy :  93.525\n",
            "[14,  6000] loss: 0.221\n",
            "training accuracy :  93.35\n",
            "[14,  8000] loss: 0.215\n",
            "training accuracy :  93.228125\n",
            "[14, 10000] loss: 0.237\n",
            "training accuracy :  93.0725\n",
            "[14, 12000] loss: 0.233\n",
            "training accuracy :  92.95625\n",
            "[15,  2000] loss: 0.185\n",
            "training accuracy :  93.925\n",
            "[15,  4000] loss: 0.187\n",
            "training accuracy :  93.825\n",
            "[15,  6000] loss: 0.213\n",
            "training accuracy :  93.64583333333333\n",
            "[15,  8000] loss: 0.212\n",
            "training accuracy :  93.50625\n",
            "[15, 10000] loss: 0.216\n",
            "training accuracy :  93.39\n",
            "[15, 12000] loss: 0.222\n",
            "training accuracy :  93.30625\n",
            "[16,  2000] loss: 0.180\n",
            "training accuracy :  94.1625\n",
            "[16,  4000] loss: 0.195\n",
            "training accuracy :  93.88125\n",
            "[16,  6000] loss: 0.205\n",
            "training accuracy :  93.72916666666667\n",
            "[16,  8000] loss: 0.186\n",
            "training accuracy :  93.740625\n",
            "[16, 10000] loss: 0.215\n",
            "training accuracy :  93.5925\n",
            "[16, 12000] loss: 0.203\n",
            "training accuracy :  93.53541666666666\n",
            "[17,  2000] loss: 0.165\n",
            "training accuracy :  94.9375\n",
            "[17,  4000] loss: 0.184\n",
            "training accuracy :  94.4875\n",
            "[17,  6000] loss: 0.190\n",
            "training accuracy :  94.37083333333334\n",
            "[17,  8000] loss: 0.192\n",
            "training accuracy :  94.259375\n",
            "[17, 10000] loss: 0.200\n",
            "training accuracy :  94.175\n",
            "[17, 12000] loss: 0.212\n",
            "training accuracy :  93.99791666666667\n",
            "[18,  2000] loss: 0.167\n",
            "training accuracy :  94.675\n",
            "[18,  4000] loss: 0.187\n",
            "training accuracy :  94.45625\n",
            "[18,  6000] loss: 0.177\n",
            "training accuracy :  94.42916666666666\n",
            "[18,  8000] loss: 0.180\n",
            "training accuracy :  94.390625\n",
            "[18, 10000] loss: 0.188\n",
            "training accuracy :  94.3075\n",
            "[18, 12000] loss: 0.188\n",
            "training accuracy :  94.22916666666667\n",
            "[19,  2000] loss: 0.165\n",
            "training accuracy :  94.525\n",
            "[19,  4000] loss: 0.172\n",
            "training accuracy :  94.4\n",
            "[19,  6000] loss: 0.185\n",
            "training accuracy :  94.24166666666666\n",
            "[19,  8000] loss: 0.203\n",
            "training accuracy :  94.021875\n",
            "[19, 10000] loss: 0.190\n",
            "training accuracy :  94.0025\n",
            "[19, 12000] loss: 0.192\n",
            "training accuracy :  93.97291666666666\n",
            "[20,  2000] loss: 0.144\n",
            "training accuracy :  95.4\n",
            "[20,  4000] loss: 0.164\n",
            "training accuracy :  95.1125\n",
            "[20,  6000] loss: 0.156\n",
            "training accuracy :  95.05416666666666\n",
            "[20,  8000] loss: 0.189\n",
            "training accuracy :  94.78125\n",
            "[20, 10000] loss: 0.177\n",
            "training accuracy :  94.6975\n",
            "[20, 12000] loss: 0.175\n",
            "training accuracy :  94.62083333333334\n",
            "[21,  2000] loss: 0.147\n",
            "training accuracy :  95.5125\n",
            "[21,  4000] loss: 0.158\n",
            "training accuracy :  95.13125\n",
            "[21,  6000] loss: 0.169\n",
            "training accuracy :  94.97916666666667\n",
            "[21,  8000] loss: 0.167\n",
            "training accuracy :  94.9\n",
            "[21, 10000] loss: 0.176\n",
            "training accuracy :  94.7425\n",
            "[21, 12000] loss: 0.173\n",
            "training accuracy :  94.675\n",
            "[22,  2000] loss: 0.139\n",
            "training accuracy :  95.5\n",
            "[22,  4000] loss: 0.161\n",
            "training accuracy :  95.2\n",
            "[22,  6000] loss: 0.149\n",
            "training accuracy :  95.22083333333333\n",
            "[22,  8000] loss: 0.161\n",
            "training accuracy :  95.128125\n",
            "[22, 10000] loss: 0.155\n",
            "training accuracy :  95.125\n",
            "[22, 12000] loss: 0.176\n",
            "training accuracy :  95.07708333333333\n",
            "[23,  2000] loss: 0.149\n",
            "training accuracy :  95.475\n",
            "[23,  4000] loss: 0.153\n",
            "training accuracy :  95.2875\n",
            "[23,  6000] loss: 0.150\n",
            "training accuracy :  95.25416666666666\n",
            "[23,  8000] loss: 0.162\n",
            "training accuracy :  95.225\n",
            "[23, 10000] loss: 0.156\n",
            "training accuracy :  95.16\n",
            "[23, 12000] loss: 0.146\n",
            "training accuracy :  95.15416666666667\n",
            "[24,  2000] loss: 0.141\n",
            "training accuracy :  95.675\n",
            "[24,  4000] loss: 0.145\n",
            "training accuracy :  95.625\n",
            "[24,  6000] loss: 0.154\n",
            "training accuracy :  95.42083333333333\n",
            "[24,  8000] loss: 0.150\n",
            "training accuracy :  95.334375\n",
            "[24, 10000] loss: 0.141\n",
            "training accuracy :  95.4075\n",
            "[24, 12000] loss: 0.167\n",
            "training accuracy :  95.31875\n",
            "[25,  2000] loss: 0.140\n",
            "training accuracy :  95.1375\n",
            "[25,  4000] loss: 0.131\n",
            "training accuracy :  95.39375\n",
            "[25,  6000] loss: 0.141\n",
            "training accuracy :  95.4625\n",
            "[25,  8000] loss: 0.150\n",
            "training accuracy :  95.378125\n",
            "[25, 10000] loss: 0.140\n",
            "training accuracy :  95.4175\n",
            "[25, 12000] loss: 0.150\n",
            "training accuracy :  95.38958333333333\n",
            "Finished Training\n"
          ],
          "name": "stdout"
        }
      ]
    },
    {
      "cell_type": "code",
      "metadata": {
        "id": "uSW3jVmbS2mJ"
      },
      "source": [
        "PATH = './cifar_net1.pth'\n",
        "torch.save(net.state_dict(), PATH)"
      ],
      "execution_count": 12,
      "outputs": []
    },
    {
      "cell_type": "code",
      "metadata": {
        "colab": {
          "base_uri": "https://localhost:8080/",
          "height": 155
        },
        "id": "SY47aznQS5VI",
        "outputId": "95c79927-ff95-4c3f-a27e-4c87fc4575d8"
      },
      "source": [
        "dataiter = iter(testloader)\n",
        "images, labels = dataiter.next()\n",
        "\n",
        "# print images\n",
        "imshow(torchvision.utils.make_grid(images))\n",
        "print('GroundTruth: ', ' '.join('%5s' % classes[labels[j]] for j in range(4)))"
      ],
      "execution_count": 13,
      "outputs": [
        {
          "output_type": "display_data",
          "data": {
            "image/png": "[encoded data removed]",
            "text/plain": [
              "<Figure size 432x288 with 1 Axes>"
            ]
          },
          "metadata": {
            "tags": [],
            "needs_background": "light"
          }
        },
        {
          "output_type": "stream",
          "text": [
            "GroundTruth:    cat  ship  ship plane\n"
          ],
          "name": "stdout"
        }
      ]
    },
    {
      "cell_type": "code",
      "metadata": {
        "colab": {
          "base_uri": "https://localhost:8080/"
        },
        "id": "0uSNfut9S5X1",
        "outputId": "7e434d03-25b1-459f-92dd-f9cb58d2d83f"
      },
      "source": [
        "net = Net()\n",
        "net.to(device)\n",
        "nwt=net.to(device)\n",
        "net.load_state_dict(torch.load(PATH))"
      ],
      "execution_count": 14,
      "outputs": [
        {
          "output_type": "execute_result",
          "data": {
            "text/plain": [
              "<All keys matched successfully>"
            ]
          },
          "metadata": {
            "tags": []
          },
          "execution_count": 14
        }
      ]
    },
    {
      "cell_type": "code",
      "metadata": {
        "id": "Ue0nAa1-S-Vc"
      },
      "source": [
        "outputs = net(images.to(device))"
      ],
      "execution_count": 15,
      "outputs": []
    },
    {
      "cell_type": "code",
      "metadata": {
        "colab": {
          "base_uri": "https://localhost:8080/"
        },
        "id": "nacjqUVxS-X6",
        "outputId": "b2fc0b60-71a3-49df-8128-a9df91a79d4a"
      },
      "source": [
        "_, predicted = torch.max(outputs, 1)\n",
        "\n",
        "print('Predicted: ', ' '.join('%5s' % classes[predicted[j]]\n",
        "                              for j in range(4)))"
      ],
      "execution_count": 16,
      "outputs": [
        {
          "output_type": "stream",
          "text": [
            "Predicted:    cat  ship  ship plane\n"
          ],
          "name": "stdout"
        }
      ]
    },
    {
      "cell_type": "code",
      "metadata": {
        "colab": {
          "base_uri": "https://localhost:8080/"
        },
        "id": "h-eIw4QCS-aL",
        "outputId": "1ef65916-8896-41ea-da17-a7212fb7ad1e"
      },
      "source": [
        "correct = 0\n",
        "total = 0\n",
        "with torch.no_grad():\n",
        "    for data in testloader:\n",
        "        images, labels = data\n",
        "        images, labels = images.to(device), labels.to(device)\n",
        "        outputs = net(images)\n",
        "        _, predicted = torch.max(outputs.data, 1)\n",
        "        total += labels.size(0)\n",
        "        correct += (predicted == labels).sum().item()\n",
        "\n",
        "print('Accuracy of the network on the 10000 test images: %d %%' % (\n",
        "    100 * correct / total))"
      ],
      "execution_count": 17,
      "outputs": [
        {
          "output_type": "stream",
          "text": [
            "Accuracy of the network on the 10000 test images: 71 %\n"
          ],
          "name": "stdout"
        }
      ]
    },
    {
      "cell_type": "code",
      "metadata": {
        "id": "gGlUvv0pvMnB"
      },
      "source": [
        ""
      ],
      "execution_count": null,
      "outputs": []
    }
  ]
}