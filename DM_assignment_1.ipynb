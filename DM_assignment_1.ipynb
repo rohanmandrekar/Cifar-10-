{
  "nbformat": 4,
  "nbformat_minor": 0,
  "metadata": {
    "colab": {
      "name": "DM assignment 1.ipynb",
      "provenance": [],
      "collapsed_sections": []
    },
    "kernelspec": {
      "name": "python3",
      "display_name": "Python 3"
    },
    "language_info": {
      "name": "python"
    },
    "accelerator": "GPU",
    "widgets": {
      "application/vnd.jupyter.widget-state+json": {
        "45411814da2546b9b3fac6b4435b338e": {
          "model_module": "@jupyter-widgets/controls",
          "model_name": "HBoxModel",
          "state": {
            "_view_name": "HBoxView",
            "_dom_classes": [],
            "_model_name": "HBoxModel",
            "_view_module": "@jupyter-widgets/controls",
            "_model_module_version": "1.5.0",
            "_view_count": null,
            "_view_module_version": "1.5.0",
            "box_style": "",
            "layout": "IPY_MODEL_038ba16656894f14b4fb090b65300ca3",
            "_model_module": "@jupyter-widgets/controls",
            "children": [
              "IPY_MODEL_9ed690cf7c824174b120f8540069906b",
              "IPY_MODEL_fc0e233d845d438084a53b261375987b"
            ]
          }
        },
        "038ba16656894f14b4fb090b65300ca3": {
          "model_module": "@jupyter-widgets/base",
          "model_name": "LayoutModel",
          "state": {
            "_view_name": "LayoutView",
            "grid_template_rows": null,
            "right": null,
            "justify_content": null,
            "_view_module": "@jupyter-widgets/base",
            "overflow": null,
            "_model_module_version": "1.2.0",
            "_view_count": null,
            "flex_flow": null,
            "width": null,
            "min_width": null,
            "border": null,
            "align_items": null,
            "bottom": null,
            "_model_module": "@jupyter-widgets/base",
            "top": null,
            "grid_column": null,
            "overflow_y": null,
            "overflow_x": null,
            "grid_auto_flow": null,
            "grid_area": null,
            "grid_template_columns": null,
            "flex": null,
            "_model_name": "LayoutModel",
            "justify_items": null,
            "grid_row": null,
            "max_height": null,
            "align_content": null,
            "visibility": null,
            "align_self": null,
            "height": null,
            "min_height": null,
            "padding": null,
            "grid_auto_rows": null,
            "grid_gap": null,
            "max_width": null,
            "order": null,
            "_view_module_version": "1.2.0",
            "grid_template_areas": null,
            "object_position": null,
            "object_fit": null,
            "grid_auto_columns": null,
            "margin": null,
            "display": null,
            "left": null
          }
        },
        "9ed690cf7c824174b120f8540069906b": {
          "model_module": "@jupyter-widgets/controls",
          "model_name": "FloatProgressModel",
          "state": {
            "_view_name": "ProgressView",
            "style": "IPY_MODEL_10cce4c55c9244c1a803ef422812f789",
            "_dom_classes": [],
            "description": "",
            "_model_name": "FloatProgressModel",
            "bar_style": "success",
            "max": 170498071,
            "_view_module": "@jupyter-widgets/controls",
            "_model_module_version": "1.5.0",
            "value": 170498071,
            "_view_count": null,
            "_view_module_version": "1.5.0",
            "orientation": "horizontal",
            "min": 0,
            "description_tooltip": null,
            "_model_module": "@jupyter-widgets/controls",
            "layout": "IPY_MODEL_253e8cd8e5934d1891bf8561434c6ea7"
          }
        },
        "fc0e233d845d438084a53b261375987b": {
          "model_module": "@jupyter-widgets/controls",
          "model_name": "HTMLModel",
          "state": {
            "_view_name": "HTMLView",
            "style": "IPY_MODEL_b29307b3508640c197d23ef9fe135a5c",
            "_dom_classes": [],
            "description": "",
            "_model_name": "HTMLModel",
            "placeholder": "​",
            "_view_module": "@jupyter-widgets/controls",
            "_model_module_version": "1.5.0",
            "value": " 170499072/? [00:05&lt;00:00, 32403593.03it/s]",
            "_view_count": null,
            "_view_module_version": "1.5.0",
            "description_tooltip": null,
            "_model_module": "@jupyter-widgets/controls",
            "layout": "IPY_MODEL_efe28021fb434a74ac18a3c41e346eed"
          }
        },
        "10cce4c55c9244c1a803ef422812f789": {
          "model_module": "@jupyter-widgets/controls",
          "model_name": "ProgressStyleModel",
          "state": {
            "_view_name": "StyleView",
            "_model_name": "ProgressStyleModel",
            "description_width": "initial",
            "_view_module": "@jupyter-widgets/base",
            "_model_module_version": "1.5.0",
            "_view_count": null,
            "_view_module_version": "1.2.0",
            "bar_color": null,
            "_model_module": "@jupyter-widgets/controls"
          }
        },
        "253e8cd8e5934d1891bf8561434c6ea7": {
          "model_module": "@jupyter-widgets/base",
          "model_name": "LayoutModel",
          "state": {
            "_view_name": "LayoutView",
            "grid_template_rows": null,
            "right": null,
            "justify_content": null,
            "_view_module": "@jupyter-widgets/base",
            "overflow": null,
            "_model_module_version": "1.2.0",
            "_view_count": null,
            "flex_flow": null,
            "width": null,
            "min_width": null,
            "border": null,
            "align_items": null,
            "bottom": null,
            "_model_module": "@jupyter-widgets/base",
            "top": null,
            "grid_column": null,
            "overflow_y": null,
            "overflow_x": null,
            "grid_auto_flow": null,
            "grid_area": null,
            "grid_template_columns": null,
            "flex": null,
            "_model_name": "LayoutModel",
            "justify_items": null,
            "grid_row": null,
            "max_height": null,
            "align_content": null,
            "visibility": null,
            "align_self": null,
            "height": null,
            "min_height": null,
            "padding": null,
            "grid_auto_rows": null,
            "grid_gap": null,
            "max_width": null,
            "order": null,
            "_view_module_version": "1.2.0",
            "grid_template_areas": null,
            "object_position": null,
            "object_fit": null,
            "grid_auto_columns": null,
            "margin": null,
            "display": null,
            "left": null
          }
        },
        "b29307b3508640c197d23ef9fe135a5c": {
          "model_module": "@jupyter-widgets/controls",
          "model_name": "DescriptionStyleModel",
          "state": {
            "_view_name": "StyleView",
            "_model_name": "DescriptionStyleModel",
            "description_width": "",
            "_view_module": "@jupyter-widgets/base",
            "_model_module_version": "1.5.0",
            "_view_count": null,
            "_view_module_version": "1.2.0",
            "_model_module": "@jupyter-widgets/controls"
          }
        },
        "efe28021fb434a74ac18a3c41e346eed": {
          "model_module": "@jupyter-widgets/base",
          "model_name": "LayoutModel",
          "state": {
            "_view_name": "LayoutView",
            "grid_template_rows": null,
            "right": null,
            "justify_content": null,
            "_view_module": "@jupyter-widgets/base",
            "overflow": null,
            "_model_module_version": "1.2.0",
            "_view_count": null,
            "flex_flow": null,
            "width": null,
            "min_width": null,
            "border": null,
            "align_items": null,
            "bottom": null,
            "_model_module": "@jupyter-widgets/base",
            "top": null,
            "grid_column": null,
            "overflow_y": null,
            "overflow_x": null,
            "grid_auto_flow": null,
            "grid_area": null,
            "grid_template_columns": null,
            "flex": null,
            "_model_name": "LayoutModel",
            "justify_items": null,
            "grid_row": null,
            "max_height": null,
            "align_content": null,
            "visibility": null,
            "align_self": null,
            "height": null,
            "min_height": null,
            "padding": null,
            "grid_auto_rows": null,
            "grid_gap": null,
            "max_width": null,
            "order": null,
            "_view_module_version": "1.2.0",
            "grid_template_areas": null,
            "object_position": null,
            "object_fit": null,
            "grid_auto_columns": null,
            "margin": null,
            "display": null,
            "left": null
          }
        }
      }
    }
  },
  "cells": [
    {
      "cell_type": "code",
      "metadata": {
        "id": "K0qbtT8Q4eON"
      },
      "source": [
        "%matplotlib inline"
      ],
      "execution_count": 1,
      "outputs": []
    },
    {
      "cell_type": "code",
      "metadata": {
        "id": "e9sK9hUjjc6g"
      },
      "source": [
        "import torch\n",
        "import torchvision\n",
        "import torchvision.transforms as transforms"
      ],
      "execution_count": 2,
      "outputs": []
    },
    {
      "cell_type": "code",
      "metadata": {
        "colab": {
          "base_uri": "https://localhost:8080/"
        },
        "id": "O-Ewmca-jmk1",
        "outputId": "aa179f7f-8fe2-4710-ec1e-e9a3f571604f"
      },
      "source": [
        "device = torch.device(\"cuda:0\" if torch.cuda.is_available() else \"cpu\")\n",
        "\n",
        "# Assuming that we are on a CUDA machine, this should print a CUDA device:\n",
        "print(device)"
      ],
      "execution_count": 3,
      "outputs": [
        {
          "output_type": "stream",
          "text": [
            "cuda:0\n"
          ],
          "name": "stdout"
        }
      ]
    },
    {
      "cell_type": "code",
      "metadata": {
        "colab": {
          "base_uri": "https://localhost:8080/",
          "height": 116,
          "referenced_widgets": [
            "45411814da2546b9b3fac6b4435b338e",
            "038ba16656894f14b4fb090b65300ca3",
            "9ed690cf7c824174b120f8540069906b",
            "fc0e233d845d438084a53b261375987b",
            "10cce4c55c9244c1a803ef422812f789",
            "253e8cd8e5934d1891bf8561434c6ea7",
            "b29307b3508640c197d23ef9fe135a5c",
            "efe28021fb434a74ac18a3c41e346eed"
          ]
        },
        "id": "_2uQbnenjzTk",
        "outputId": "b229ca63-2794-454d-b23a-f1907ccbf5b7"
      },
      "source": [
        "transform = transforms.Compose(\n",
        "    [transforms.ToTensor(),\n",
        "     transforms.Normalize((0.5, 0.5, 0.5), (0.5, 0.5, 0.5)),\n",
        "     transforms.RandomHorizontalFlip(p=1),\n",
        "     transforms.RandomVerticalFlip(p=1),\n",
        "     transforms.RandomRotation(degrees = 45)\n",
        "     ])\n",
        "\n",
        "# transform_test=[transforms.ToTensor(),\n",
        "#                 transforms.Normalize((0.5,0.5,0.5),(0.5,0.5,0.5))]\n",
        "\n",
        "trainset = torchvision.datasets.CIFAR10(root='./data', train=True,\n",
        "                                        download=True, transform=transform)\n",
        "trainloader = torch.utils.data.DataLoader(trainset, batch_size=4,\n",
        "                                          shuffle=True, num_workers=2)\n",
        "\n",
        "testset = torchvision.datasets.CIFAR10(root='./data', train=False,\n",
        "                                       download=True, transform=transform)\n",
        "testloader = torch.utils.data.DataLoader(testset, batch_size=4,\n",
        "                                         shuffle=False, num_workers=2)\n",
        "\n",
        "classes = ('plane', 'car', 'bird', 'cat',\n",
        "           'deer', 'dog', 'frog', 'horse', 'ship', 'truck')\n"
      ],
      "execution_count": 4,
      "outputs": [
        {
          "output_type": "stream",
          "text": [
            "Downloading https://www.cs.toronto.edu/~kriz/cifar-10-python.tar.gz to ./data/cifar-10-python.tar.gz\n"
          ],
          "name": "stdout"
        },
        {
          "output_type": "display_data",
          "data": {
            "application/vnd.jupyter.widget-view+json": {
              "model_id": "45411814da2546b9b3fac6b4435b338e",
              "version_minor": 0,
              "version_major": 2
            },
            "text/plain": [
              "HBox(children=(FloatProgress(value=0.0, max=170498071.0), HTML(value='')))"
            ]
          },
          "metadata": {
            "tags": []
          }
        },
        {
          "output_type": "stream",
          "text": [
            "\n",
            "Extracting ./data/cifar-10-python.tar.gz to ./data\n",
            "Files already downloaded and verified\n"
          ],
          "name": "stdout"
        }
      ]
    },
    {
      "cell_type": "code",
      "metadata": {
        "colab": {
          "base_uri": "https://localhost:8080/",
          "height": 172
        },
        "id": "WQPpMUsUj5uH",
        "outputId": "9dc74127-1dfc-4155-fe68-5078a6c18b7a"
      },
      "source": [
        "import matplotlib.pyplot as plt\n",
        "import numpy as np\n",
        "\n",
        "# functions to show an image\n",
        "\n",
        "\n",
        "def imshow(img):\n",
        "    img = img / 2 + 0.5     # unnormalize\n",
        "    npimg = img.numpy()\n",
        "    plt.imshow(np.transpose(npimg, (1, 2, 0)))\n",
        "    plt.show()\n",
        "\n",
        "\n",
        "# get some random training images\n",
        "dataiter = iter(trainloader)\n",
        "images, labels = dataiter.next()\n",
        "\n",
        "# show images\n",
        "imshow(torchvision.utils.make_grid(images))\n",
        "# print labels\n",
        "print(' '.join('%5s' % classes[labels[j]] for j in range(4)))\n",
        "\n",
        "images.shape"
      ],
      "execution_count": 5,
      "outputs": [
        {
          "output_type": "display_data",
          "data": {
            "image/png": "[encoded data removed]",
            "text/plain": [
              "<Figure size 432x288 with 1 Axes>"
            ]
          },
          "metadata": {
            "tags": [],
            "needs_background": "light"
          }
        },
        {
          "output_type": "stream",
          "text": [
            "truck   cat  bird plane\n"
          ],
          "name": "stdout"
        },
        {
          "output_type": "execute_result",
          "data": {
            "text/plain": [
              "torch.Size([4, 3, 32, 32])"
            ]
          },
          "metadata": {
            "tags": []
          },
          "execution_count": 5
        }
      ]
    },
    {
      "cell_type": "code",
      "metadata": {
        "id": "b6tZ-jh5kRUK",
        "colab": {
          "base_uri": "https://localhost:8080/"
        },
        "outputId": "2a21e05a-4b1e-43b7-f429-b4a87dde3506"
      },
      "source": [
        "import torch.nn as nn\n",
        "import torch.nn.functional as F\n",
        "\n",
        "\n",
        "class Net(nn.Module):\n",
        "    def __init__(self):\n",
        "        super(Net, self).__init__()\n",
        "        self.conv1 = nn.Conv2d(3, 6, 5)\n",
        "        self.pool = nn.MaxPool2d(2, 2)\n",
        "        self.conv2 = nn.Conv2d(6, 16, 5)\n",
        "        self.fc1 = nn.Linear(16 * 5 * 5, 200)\n",
        "        self.fc2 = nn.Linear(200,100)\n",
        "        self.fc3 = nn.Linear(100, 50)\n",
        "        self.fc4 = nn.Linear(50, 10)\n",
        "        \n",
        "\n",
        "    def forward(self, x):\n",
        "        x = self.pool(F.relu(self.conv1(x)))\n",
        "        x = self.pool(F.relu(self.conv2(x)))\n",
        "        x = x.view(-1, 16 * 5 * 5)\n",
        "        x = F.relu(self.fc1(x))\n",
        "        x = F.relu(self.fc2(x))\n",
        "        x = F.relu(self.fc3(x))\n",
        "        x = self.fc4(x)\n",
        "        return x\n",
        "\n",
        "\n",
        "net = Net()\n",
        "net=net.to(device)\n",
        "print(net)"
      ],
      "execution_count": 6,
      "outputs": [
        {
          "output_type": "stream",
          "text": [
            "Net(\n",
            "  (conv1): Conv2d(3, 6, kernel_size=(5, 5), stride=(1, 1))\n",
            "  (pool): MaxPool2d(kernel_size=2, stride=2, padding=0, dilation=1, ceil_mode=False)\n",
            "  (conv2): Conv2d(6, 16, kernel_size=(5, 5), stride=(1, 1))\n",
            "  (fc1): Linear(in_features=400, out_features=200, bias=True)\n",
            "  (fc2): Linear(in_features=200, out_features=100, bias=True)\n",
            "  (fc3): Linear(in_features=100, out_features=50, bias=True)\n",
            "  (fc4): Linear(in_features=50, out_features=10, bias=True)\n",
            ")\n"
          ],
          "name": "stdout"
        }
      ]
    },
    {
      "cell_type": "code",
      "metadata": {
        "id": "6VFuvEfwkWHK"
      },
      "source": [
        "import torch.optim as optim\n",
        "\n",
        "criterion = nn.CrossEntropyLoss()\n",
        "optimizer = optim.SGD(net.parameters(), lr=0.001, momentum=0.9)"
      ],
      "execution_count": 9,
      "outputs": []
    },
    {
      "cell_type": "code",
      "metadata": {
        "colab": {
          "base_uri": "https://localhost:8080/"
        },
        "id": "5itTjkGukY3h",
        "outputId": "8f2073f9-c2ac-4bad-bffc-050376084b11"
      },
      "source": [
        "for epoch in range(25):  # loop over the dataset multiple times\n",
        "\n",
        "    running_loss = 0.0\n",
        "    total_train = 0\n",
        "    correct_train = 0\n",
        "    for i, data in enumerate(trainloader, 0):\n",
        "        # get the inputs; data is a list of [inputs, labels]\n",
        "        inputs, labels = data[0].to(device), data[1].to(device)\n",
        "\n",
        "        # zero the parameter gradients\n",
        "        optimizer.zero_grad()\n",
        "\n",
        "        # forward + backward + optimize\n",
        "        outputs = net(inputs)\n",
        "        loss = criterion(outputs, labels)\n",
        "        loss.backward()\n",
        "        optimizer.step()\n",
        "\n",
        "        # print statistics\n",
        "        running_loss += loss.item()\n",
        "\n",
        "        # accuracy source: https://discuss.pytorch.org/t/calculate-train-accuracy-of-the-model-in-segmentation-task/33581\n",
        "        _, predicted = torch.max(outputs.data, 1)\n",
        "        total_train += labels.size(0)\n",
        "        correct_train += predicted.eq(labels).sum().item()\n",
        "        train_accuracy = 100 * correct_train / total_train\n",
        "        #avg_accuracy = train_accuracy / len(train_loader)\n",
        "\n",
        "\n",
        "        if i % 2000 == 1999:    # print every 2000 mini-batches\n",
        "            print('[%d, %5d] loss: %.3f' %\n",
        "                  (epoch + 1, i + 1, running_loss / 2000))\n",
        "            print(\"training accuracy : \",train_accuracy)\n",
        "            running_loss = 0.0\n",
        "\n",
        "print('Finished Training')"
      ],
      "execution_count": 14,
      "outputs": [
        {
          "output_type": "stream",
          "text": [
            "[1,  2000] loss: 1.600\n",
            "training accuracy :  41.9875\n",
            "[1,  4000] loss: 1.559\n",
            "training accuracy :  42.60625\n",
            "[1,  6000] loss: 1.543\n",
            "training accuracy :  42.95\n",
            "[1,  8000] loss: 1.522\n",
            "training accuracy :  43.43125\n",
            "[1, 10000] loss: 1.516\n",
            "training accuracy :  43.8525\n",
            "[1, 12000] loss: 1.502\n",
            "training accuracy :  44.22083333333333\n",
            "[2,  2000] loss: 1.453\n",
            "training accuracy :  48.8125\n",
            "[2,  4000] loss: 1.443\n",
            "training accuracy :  48.58125\n",
            "[2,  6000] loss: 1.442\n",
            "training accuracy :  48.32083333333333\n",
            "[2,  8000] loss: 1.431\n",
            "training accuracy :  48.421875\n",
            "[2, 10000] loss: 1.409\n",
            "training accuracy :  48.72\n",
            "[2, 12000] loss: 1.413\n",
            "training accuracy :  48.75625\n",
            "[3,  2000] loss: 1.370\n",
            "training accuracy :  51.3\n",
            "[3,  4000] loss: 1.376\n",
            "training accuracy :  50.98125\n",
            "[3,  6000] loss: 1.376\n",
            "training accuracy :  51.1375\n",
            "[3,  8000] loss: 1.375\n",
            "training accuracy :  51.084375\n",
            "[3, 10000] loss: 1.354\n",
            "training accuracy :  51.18\n",
            "[3, 12000] loss: 1.371\n",
            "training accuracy :  51.235416666666666\n",
            "[4,  2000] loss: 1.311\n",
            "training accuracy :  53.25\n",
            "[4,  4000] loss: 1.330\n",
            "training accuracy :  53.575\n",
            "[4,  6000] loss: 1.335\n",
            "training accuracy :  53.170833333333334\n",
            "[4,  8000] loss: 1.310\n",
            "training accuracy :  53.221875\n",
            "[4, 10000] loss: 1.320\n",
            "training accuracy :  53.235\n",
            "[4, 12000] loss: 1.317\n",
            "training accuracy :  53.302083333333336\n",
            "[5,  2000] loss: 1.278\n",
            "training accuracy :  54.7\n",
            "[5,  4000] loss: 1.295\n",
            "training accuracy :  54.5875\n",
            "[5,  6000] loss: 1.284\n",
            "training accuracy :  54.5875\n",
            "[5,  8000] loss: 1.279\n",
            "training accuracy :  54.49375\n",
            "[5, 10000] loss: 1.289\n",
            "training accuracy :  54.585\n",
            "[5, 12000] loss: 1.270\n",
            "training accuracy :  54.670833333333334\n",
            "[6,  2000] loss: 1.238\n",
            "training accuracy :  56.5625\n",
            "[6,  4000] loss: 1.254\n",
            "training accuracy :  56.3\n",
            "[6,  6000] loss: 1.255\n",
            "training accuracy :  56.025\n",
            "[6,  8000] loss: 1.245\n",
            "training accuracy :  56.034375\n",
            "[6, 10000] loss: 1.265\n",
            "training accuracy :  55.8875\n",
            "[6, 12000] loss: 1.244\n",
            "training accuracy :  55.87708333333333\n",
            "[7,  2000] loss: 1.213\n",
            "training accuracy :  56.6625\n",
            "[7,  4000] loss: 1.244\n",
            "training accuracy :  56.4375\n",
            "[7,  6000] loss: 1.218\n",
            "training accuracy :  56.62916666666667\n",
            "[7,  8000] loss: 1.232\n",
            "training accuracy :  56.58125\n",
            "[7, 10000] loss: 1.250\n",
            "training accuracy :  56.44\n",
            "[7, 12000] loss: 1.238\n",
            "training accuracy :  56.516666666666666\n",
            "[8,  2000] loss: 1.205\n",
            "training accuracy :  57.4125\n",
            "[8,  4000] loss: 1.208\n",
            "training accuracy :  57.4\n",
            "[8,  6000] loss: 1.217\n",
            "training accuracy :  57.395833333333336\n",
            "[8,  8000] loss: 1.224\n",
            "training accuracy :  57.296875\n",
            "[8, 10000] loss: 1.197\n",
            "training accuracy :  57.4475\n",
            "[8, 12000] loss: 1.212\n",
            "training accuracy :  57.40208333333333\n",
            "[9,  2000] loss: 1.194\n",
            "training accuracy :  57.1375\n",
            "[9,  4000] loss: 1.199\n",
            "training accuracy :  57.4375\n",
            "[9,  6000] loss: 1.169\n",
            "training accuracy :  57.920833333333334\n",
            "[9,  8000] loss: 1.179\n",
            "training accuracy :  58.103125\n",
            "[9, 10000] loss: 1.176\n",
            "training accuracy :  58.2025\n",
            "[9, 12000] loss: 1.189\n",
            "training accuracy :  58.233333333333334\n",
            "[10,  2000] loss: 1.192\n",
            "training accuracy :  57.875\n",
            "[10,  4000] loss: 1.136\n",
            "training accuracy :  59.04375\n",
            "[10,  6000] loss: 1.171\n",
            "training accuracy :  58.770833333333336\n",
            "[10,  8000] loss: 1.183\n",
            "training accuracy :  58.61875\n",
            "[10, 10000] loss: 1.173\n",
            "training accuracy :  58.57\n",
            "[10, 12000] loss: 1.170\n",
            "training accuracy :  58.6875\n",
            "[11,  2000] loss: 1.146\n",
            "training accuracy :  59.4\n",
            "[11,  4000] loss: 1.135\n",
            "training accuracy :  59.4\n",
            "[11,  6000] loss: 1.176\n",
            "training accuracy :  59.25416666666667\n",
            "[11,  8000] loss: 1.163\n",
            "training accuracy :  59.278125\n",
            "[11, 10000] loss: 1.148\n",
            "training accuracy :  59.3\n",
            "[11, 12000] loss: 1.170\n",
            "training accuracy :  59.2875\n",
            "[12,  2000] loss: 1.131\n",
            "training accuracy :  59.825\n",
            "[12,  4000] loss: 1.126\n",
            "training accuracy :  59.98125\n",
            "[12,  6000] loss: 1.132\n",
            "training accuracy :  60.1\n",
            "[12,  8000] loss: 1.142\n",
            "training accuracy :  59.971875\n",
            "[12, 10000] loss: 1.139\n",
            "training accuracy :  59.905\n",
            "[12, 12000] loss: 1.159\n",
            "training accuracy :  59.87083333333333\n",
            "[13,  2000] loss: 1.102\n",
            "training accuracy :  61.45\n",
            "[13,  4000] loss: 1.113\n",
            "training accuracy :  61.2625\n",
            "[13,  6000] loss: 1.130\n",
            "training accuracy :  60.87916666666667\n",
            "[13,  8000] loss: 1.131\n",
            "training accuracy :  60.590625\n",
            "[13, 10000] loss: 1.128\n",
            "training accuracy :  60.545\n",
            "[13, 12000] loss: 1.145\n",
            "training accuracy :  60.50833333333333\n",
            "[14,  2000] loss: 1.113\n",
            "training accuracy :  60.475\n",
            "[14,  4000] loss: 1.114\n",
            "training accuracy :  60.5375\n",
            "[14,  6000] loss: 1.118\n",
            "training accuracy :  60.68333333333333\n",
            "[14,  8000] loss: 1.115\n",
            "training accuracy :  60.815625\n",
            "[14, 10000] loss: 1.141\n",
            "training accuracy :  60.7175\n",
            "[14, 12000] loss: 1.142\n",
            "training accuracy :  60.51875\n",
            "[15,  2000] loss: 1.109\n",
            "training accuracy :  61.325\n",
            "[15,  4000] loss: 1.100\n",
            "training accuracy :  61.1125\n",
            "[15,  6000] loss: 1.112\n",
            "training accuracy :  61.0125\n",
            "[15,  8000] loss: 1.107\n",
            "training accuracy :  61.040625\n",
            "[15, 10000] loss: 1.122\n",
            "training accuracy :  60.92\n",
            "[15, 12000] loss: 1.129\n",
            "training accuracy :  60.86875\n",
            "[16,  2000] loss: 1.101\n",
            "training accuracy :  62.0\n",
            "[16,  4000] loss: 1.100\n",
            "training accuracy :  61.58125\n",
            "[16,  6000] loss: 1.098\n",
            "training accuracy :  61.666666666666664\n",
            "[16,  8000] loss: 1.099\n",
            "training accuracy :  61.59375\n",
            "[16, 10000] loss: 1.100\n",
            "training accuracy :  61.6275\n",
            "[16, 12000] loss: 1.107\n",
            "training accuracy :  61.51875\n",
            "[17,  2000] loss: 1.087\n",
            "training accuracy :  62.475\n",
            "[17,  4000] loss: 1.080\n",
            "training accuracy :  62.24375\n",
            "[17,  6000] loss: 1.097\n",
            "training accuracy :  62.0375\n",
            "[17,  8000] loss: 1.093\n",
            "training accuracy :  62.021875\n",
            "[17, 10000] loss: 1.095\n",
            "training accuracy :  62.0475\n",
            "[17, 12000] loss: 1.102\n",
            "training accuracy :  61.96875\n",
            "[18,  2000] loss: 1.062\n",
            "training accuracy :  62.1125\n",
            "[18,  4000] loss: 1.076\n",
            "training accuracy :  62.225\n",
            "[18,  6000] loss: 1.056\n",
            "training accuracy :  62.579166666666666\n",
            "[18,  8000] loss: 1.106\n",
            "training accuracy :  62.265625\n",
            "[18, 10000] loss: 1.107\n",
            "training accuracy :  62.0375\n",
            "[18, 12000] loss: 1.100\n",
            "training accuracy :  62.020833333333336\n",
            "[19,  2000] loss: 1.079\n",
            "training accuracy :  62.85\n",
            "[19,  4000] loss: 1.060\n",
            "training accuracy :  62.7875\n",
            "[19,  6000] loss: 1.080\n",
            "training accuracy :  62.625\n",
            "[19,  8000] loss: 1.083\n",
            "training accuracy :  62.528125\n",
            "[19, 10000] loss: 1.069\n",
            "training accuracy :  62.435\n",
            "[19, 12000] loss: 1.096\n",
            "training accuracy :  62.3125\n",
            "[20,  2000] loss: 1.055\n",
            "training accuracy :  62.6125\n",
            "[20,  4000] loss: 1.076\n",
            "training accuracy :  62.3375\n",
            "[20,  6000] loss: 1.045\n",
            "training accuracy :  62.49166666666667\n",
            "[20,  8000] loss: 1.090\n",
            "training accuracy :  62.428125\n",
            "[20, 10000] loss: 1.084\n",
            "training accuracy :  62.3275\n",
            "[20, 12000] loss: 1.090\n",
            "training accuracy :  62.29375\n",
            "[21,  2000] loss: 1.060\n",
            "training accuracy :  63.0625\n",
            "[21,  4000] loss: 1.059\n",
            "training accuracy :  62.9875\n",
            "[21,  6000] loss: 1.050\n",
            "training accuracy :  63.12916666666667\n",
            "[21,  8000] loss: 1.094\n",
            "training accuracy :  62.696875\n",
            "[21, 10000] loss: 1.070\n",
            "training accuracy :  62.8225\n",
            "[21, 12000] loss: 1.077\n",
            "training accuracy :  62.766666666666666\n",
            "[22,  2000] loss: 1.046\n",
            "training accuracy :  63.4125\n",
            "[22,  4000] loss: 1.063\n",
            "training accuracy :  63.43125\n",
            "[22,  6000] loss: 1.075\n",
            "training accuracy :  63.15\n",
            "[22,  8000] loss: 1.063\n",
            "training accuracy :  63.040625\n",
            "[22, 10000] loss: 1.079\n",
            "training accuracy :  62.855\n",
            "[22, 12000] loss: 1.071\n",
            "training accuracy :  62.920833333333334\n",
            "[23,  2000] loss: 1.031\n",
            "training accuracy :  64.025\n",
            "[23,  4000] loss: 1.066\n",
            "training accuracy :  63.43125\n",
            "[23,  6000] loss: 1.035\n",
            "training accuracy :  63.4625\n",
            "[23,  8000] loss: 1.073\n",
            "training accuracy :  63.140625\n",
            "[23, 10000] loss: 1.059\n",
            "training accuracy :  63.1675\n",
            "[23, 12000] loss: 1.059\n",
            "training accuracy :  63.01875\n",
            "[24,  2000] loss: 1.034\n",
            "training accuracy :  64.275\n",
            "[24,  4000] loss: 1.068\n",
            "training accuracy :  63.56875\n",
            "[24,  6000] loss: 1.044\n",
            "training accuracy :  63.65833333333333\n",
            "[24,  8000] loss: 1.053\n",
            "training accuracy :  63.38125\n",
            "[24, 10000] loss: 1.071\n",
            "training accuracy :  63.17\n",
            "[24, 12000] loss: 1.063\n",
            "training accuracy :  63.329166666666666\n",
            "[25,  2000] loss: 1.038\n",
            "training accuracy :  63.8125\n",
            "[25,  4000] loss: 1.030\n",
            "training accuracy :  63.8875\n",
            "[25,  6000] loss: 1.042\n",
            "training accuracy :  63.82083333333333\n",
            "[25,  8000] loss: 1.062\n",
            "training accuracy :  63.4875\n",
            "[25, 10000] loss: 1.074\n",
            "training accuracy :  63.2775\n",
            "[25, 12000] loss: 1.041\n",
            "training accuracy :  63.291666666666664\n",
            "Finished Training\n"
          ],
          "name": "stdout"
        }
      ]
    },
    {
      "cell_type": "code",
      "metadata": {
        "id": "B2h2XGQWkc6a"
      },
      "source": [
        "PATH = './cifar_net.pth'\n",
        "torch.save(net.state_dict(), PATH)"
      ],
      "execution_count": 15,
      "outputs": []
    },
    {
      "cell_type": "code",
      "metadata": {
        "colab": {
          "base_uri": "https://localhost:8080/",
          "height": 155
        },
        "id": "MFCGYT8Bk5RS",
        "outputId": "0ee5ec09-0d2b-4187-8562-f84e8143e4c6"
      },
      "source": [
        "dataiter = iter(testloader)\n",
        "images, labels = dataiter.next()\n",
        "\n",
        "# print images\n",
        "imshow(torchvision.utils.make_grid(images))\n",
        "print('GroundTruth: ', ' '.join('%5s' % classes[labels[j]] for j in range(4)))"
      ],
      "execution_count": 16,
      "outputs": [
        {
          "output_type": "display_data",
          "data": {
            "image/png": "[encoded data removed]",
            "text/plain": [
              "<Figure size 432x288 with 1 Axes>"
            ]
          },
          "metadata": {
            "tags": [],
            "needs_background": "light"
          }
        },
        {
          "output_type": "stream",
          "text": [
            "GroundTruth:    cat  ship  ship plane\n"
          ],
          "name": "stdout"
        }
      ]
    },
    {
      "cell_type": "code",
      "metadata": {
        "colab": {
          "base_uri": "https://localhost:8080/"
        },
        "id": "RYBOXjIllAmr",
        "outputId": "5d52c5cb-dd27-4655-87f5-3acc24d6ceb9"
      },
      "source": [
        "net = Net()\n",
        "net.to(device)\n",
        "nwt=net.to(device)\n",
        "net.load_state_dict(torch.load(PATH))"
      ],
      "execution_count": 17,
      "outputs": [
        {
          "output_type": "execute_result",
          "data": {
            "text/plain": [
              "<All keys matched successfully>"
            ]
          },
          "metadata": {
            "tags": []
          },
          "execution_count": 17
        }
      ]
    },
    {
      "cell_type": "code",
      "metadata": {
        "id": "RMTtuHi_lGGM"
      },
      "source": [
        "outputs = net(images.to(device))"
      ],
      "execution_count": 18,
      "outputs": []
    },
    {
      "cell_type": "code",
      "metadata": {
        "colab": {
          "base_uri": "https://localhost:8080/"
        },
        "id": "xQNd7UnTlIhv",
        "outputId": "4d47abc3-9023-42a4-f90d-3a8164eef21c"
      },
      "source": [
        "_, predicted = torch.max(outputs, 1)\n",
        "\n",
        "print('Predicted: ', ' '.join('%5s' % classes[predicted[j]]\n",
        "                              for j in range(4)))"
      ],
      "execution_count": 19,
      "outputs": [
        {
          "output_type": "stream",
          "text": [
            "Predicted:    cat  ship  ship plane\n"
          ],
          "name": "stdout"
        }
      ]
    },
    {
      "cell_type": "code",
      "metadata": {
        "colab": {
          "base_uri": "https://localhost:8080/"
        },
        "id": "DqlnL8IKlKeo",
        "outputId": "aa1d9fed-82bd-4533-9362-96c2897e11ed"
      },
      "source": [
        "correct = 0\n",
        "total = 0\n",
        "with torch.no_grad():\n",
        "    for data in testloader:\n",
        "        images, labels = data\n",
        "        images, labels = images.to(device), labels.to(device)\n",
        "        outputs = net(images)\n",
        "        _, predicted = torch.max(outputs.data, 1)\n",
        "        total += labels.size(0)\n",
        "        correct += (predicted == labels).sum().item()\n",
        "\n",
        "print('Accuracy of the network on the 10000 test images: %d %%' % (\n",
        "    100 * correct / total))"
      ],
      "execution_count": 20,
      "outputs": [
        {
          "output_type": "stream",
          "text": [
            "Accuracy of the network on the 10000 test images: 58 %\n"
          ],
          "name": "stdout"
        }
      ]
    },
    {
      "cell_type": "markdown",
      "metadata": {
        "id": "uP0Vh5EwtGKm"
      },
      "source": [
        "## Attempt 1 (default code):\n",
        "### accuracy = 53%\n",
        "\n",
        "## Attempt 2 :\n",
        "added transforms to image : horizontal flip, vertical flip, rotation by 45 deg\n",
        "(obseverd that accuracy of the car class was 70%)\n",
        "###accuracy 47% ; min loss 1.503\n",
        "\n",
        "##Attempt 3:\n",
        "added one more fully connected layer in the middle\n",
        "\n",
        "accuracy of class car reduced to 38% ; class truck increased to 71%; ship increased to 64%\n",
        "\n",
        "###Accuracy 46% ; min loss 1.511\n",
        "\n",
        "##Attempt 4:\n",
        "increased epochs to 25\n",
        "added train accuracy paramenter\n",
        "###train accuracy 63.29%;test Accuracy 58% ; loss 1.041\n",
        "\n"
      ]
    },
    {
      "cell_type": "code",
      "metadata": {
        "colab": {
          "base_uri": "https://localhost:8080/"
        },
        "id": "6K5h3X6fq3k1",
        "outputId": "db8d24d2-fa18-4467-e006-16cca2eeb5be"
      },
      "source": [
        "class_correct = list(0. for i in range(10))\n",
        "class_total = list(0. for i in range(10))\n",
        "# avg=0\n",
        "with torch.no_grad():\n",
        "    for data in testloader:\n",
        "        images, labels = data\n",
        "        images, labels = images.to(device), labels.to(device)\n",
        "\n",
        "        outputs = net(images)\n",
        "        _, predicted = torch.max(outputs, 1)\n",
        "        c = (predicted == labels).squeeze()\n",
        "        for i in range(4):\n",
        "            label = labels[i]\n",
        "            class_correct[label] += c[i].item()\n",
        "            class_total[label] += 1\n",
        "\n",
        "\n",
        "for i in range(10):\n",
        "    print('Accuracy of %5s : %2d %%' % (\n",
        "        classes[i], 100 * class_correct[i] / class_total[i]))\n",
        "#     avg+=100 * class_correct[i] / class_total[i]\n",
        "# avg=avg/10\n",
        "\n",
        "# print(\"average of 10 classes = \", avg)"
      ],
      "execution_count": 21,
      "outputs": [
        {
          "output_type": "stream",
          "text": [
            "Accuracy of plane : 67 %\n",
            "Accuracy of   car : 73 %\n",
            "Accuracy of  bird : 49 %\n",
            "Accuracy of   cat : 31 %\n",
            "Accuracy of  deer : 63 %\n",
            "Accuracy of   dog : 49 %\n",
            "Accuracy of  frog : 66 %\n",
            "Accuracy of horse : 60 %\n",
            "Accuracy of  ship : 78 %\n",
            "Accuracy of truck : 41 %\n"
          ],
          "name": "stdout"
        }
      ]
    },
    {
      "cell_type": "code",
      "metadata": {
        "id": "vBJ51yLjrJ6e"
      },
      "source": [
        ""
      ],
      "execution_count": null,
      "outputs": []
    }
  ]
}