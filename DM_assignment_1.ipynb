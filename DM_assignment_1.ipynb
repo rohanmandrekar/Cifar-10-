{
  "nbformat": 4,
  "nbformat_minor": 0,
  "metadata": {
    "colab": {
      "name": "DM assignment 1.ipynb",
      "provenance": [],
      "collapsed_sections": []
    },
    "kernelspec": {
      "name": "python3",
      "display_name": "Python 3"
    },
    "language_info": {
      "name": "python"
    },
    "accelerator": "GPU",
    "widgets": {
      "application/vnd.jupyter.widget-state+json": {
        "5b78c99f60ce442bbc88beb904d8009a": {
          "model_module": "@jupyter-widgets/controls",
          "model_name": "HBoxModel",
          "state": {
            "_view_name": "HBoxView",
            "_dom_classes": [],
            "_model_name": "HBoxModel",
            "_view_module": "@jupyter-widgets/controls",
            "_model_module_version": "1.5.0",
            "_view_count": null,
            "_view_module_version": "1.5.0",
            "box_style": "",
            "layout": "IPY_MODEL_0578fa4d7a694312b2c58a655a6029bd",
            "_model_module": "@jupyter-widgets/controls",
            "children": [
              "IPY_MODEL_f57c7e58ebea448dbd77a28abba61bf4",
              "IPY_MODEL_103f25a69b3d4fcaafe9a020a68d735d"
            ]
          }
        },
        "0578fa4d7a694312b2c58a655a6029bd": {
          "model_module": "@jupyter-widgets/base",
          "model_name": "LayoutModel",
          "state": {
            "_view_name": "LayoutView",
            "grid_template_rows": null,
            "right": null,
            "justify_content": null,
            "_view_module": "@jupyter-widgets/base",
            "overflow": null,
            "_model_module_version": "1.2.0",
            "_view_count": null,
            "flex_flow": null,
            "width": null,
            "min_width": null,
            "border": null,
            "align_items": null,
            "bottom": null,
            "_model_module": "@jupyter-widgets/base",
            "top": null,
            "grid_column": null,
            "overflow_y": null,
            "overflow_x": null,
            "grid_auto_flow": null,
            "grid_area": null,
            "grid_template_columns": null,
            "flex": null,
            "_model_name": "LayoutModel",
            "justify_items": null,
            "grid_row": null,
            "max_height": null,
            "align_content": null,
            "visibility": null,
            "align_self": null,
            "height": null,
            "min_height": null,
            "padding": null,
            "grid_auto_rows": null,
            "grid_gap": null,
            "max_width": null,
            "order": null,
            "_view_module_version": "1.2.0",
            "grid_template_areas": null,
            "object_position": null,
            "object_fit": null,
            "grid_auto_columns": null,
            "margin": null,
            "display": null,
            "left": null
          }
        },
        "f57c7e58ebea448dbd77a28abba61bf4": {
          "model_module": "@jupyter-widgets/controls",
          "model_name": "FloatProgressModel",
          "state": {
            "_view_name": "ProgressView",
            "style": "IPY_MODEL_222876c01f39426795f8e7f6f02664f2",
            "_dom_classes": [],
            "description": "",
            "_model_name": "FloatProgressModel",
            "bar_style": "success",
            "max": 170498071,
            "_view_module": "@jupyter-widgets/controls",
            "_model_module_version": "1.5.0",
            "value": 170498071,
            "_view_count": null,
            "_view_module_version": "1.5.0",
            "orientation": "horizontal",
            "min": 0,
            "description_tooltip": null,
            "_model_module": "@jupyter-widgets/controls",
            "layout": "IPY_MODEL_107dc20a8eac40cc960522e4493fee31"
          }
        },
        "103f25a69b3d4fcaafe9a020a68d735d": {
          "model_module": "@jupyter-widgets/controls",
          "model_name": "HTMLModel",
          "state": {
            "_view_name": "HTMLView",
            "style": "IPY_MODEL_0dcc294e16674c35b4f5c0f10eba85d0",
            "_dom_classes": [],
            "description": "",
            "_model_name": "HTMLModel",
            "placeholder": "​",
            "_view_module": "@jupyter-widgets/controls",
            "_model_module_version": "1.5.0",
            "value": " 170499072/? [00:07&lt;00:00, 22137239.21it/s]",
            "_view_count": null,
            "_view_module_version": "1.5.0",
            "description_tooltip": null,
            "_model_module": "@jupyter-widgets/controls",
            "layout": "IPY_MODEL_0d53abb772224df4b30b2d0671e954a4"
          }
        },
        "222876c01f39426795f8e7f6f02664f2": {
          "model_module": "@jupyter-widgets/controls",
          "model_name": "ProgressStyleModel",
          "state": {
            "_view_name": "StyleView",
            "_model_name": "ProgressStyleModel",
            "description_width": "initial",
            "_view_module": "@jupyter-widgets/base",
            "_model_module_version": "1.5.0",
            "_view_count": null,
            "_view_module_version": "1.2.0",
            "bar_color": null,
            "_model_module": "@jupyter-widgets/controls"
          }
        },
        "107dc20a8eac40cc960522e4493fee31": {
          "model_module": "@jupyter-widgets/base",
          "model_name": "LayoutModel",
          "state": {
            "_view_name": "LayoutView",
            "grid_template_rows": null,
            "right": null,
            "justify_content": null,
            "_view_module": "@jupyter-widgets/base",
            "overflow": null,
            "_model_module_version": "1.2.0",
            "_view_count": null,
            "flex_flow": null,
            "width": null,
            "min_width": null,
            "border": null,
            "align_items": null,
            "bottom": null,
            "_model_module": "@jupyter-widgets/base",
            "top": null,
            "grid_column": null,
            "overflow_y": null,
            "overflow_x": null,
            "grid_auto_flow": null,
            "grid_area": null,
            "grid_template_columns": null,
            "flex": null,
            "_model_name": "LayoutModel",
            "justify_items": null,
            "grid_row": null,
            "max_height": null,
            "align_content": null,
            "visibility": null,
            "align_self": null,
            "height": null,
            "min_height": null,
            "padding": null,
            "grid_auto_rows": null,
            "grid_gap": null,
            "max_width": null,
            "order": null,
            "_view_module_version": "1.2.0",
            "grid_template_areas": null,
            "object_position": null,
            "object_fit": null,
            "grid_auto_columns": null,
            "margin": null,
            "display": null,
            "left": null
          }
        },
        "0dcc294e16674c35b4f5c0f10eba85d0": {
          "model_module": "@jupyter-widgets/controls",
          "model_name": "DescriptionStyleModel",
          "state": {
            "_view_name": "StyleView",
            "_model_name": "DescriptionStyleModel",
            "description_width": "",
            "_view_module": "@jupyter-widgets/base",
            "_model_module_version": "1.5.0",
            "_view_count": null,
            "_view_module_version": "1.2.0",
            "_model_module": "@jupyter-widgets/controls"
          }
        },
        "0d53abb772224df4b30b2d0671e954a4": {
          "model_module": "@jupyter-widgets/base",
          "model_name": "LayoutModel",
          "state": {
            "_view_name": "LayoutView",
            "grid_template_rows": null,
            "right": null,
            "justify_content": null,
            "_view_module": "@jupyter-widgets/base",
            "overflow": null,
            "_model_module_version": "1.2.0",
            "_view_count": null,
            "flex_flow": null,
            "width": null,
            "min_width": null,
            "border": null,
            "align_items": null,
            "bottom": null,
            "_model_module": "@jupyter-widgets/base",
            "top": null,
            "grid_column": null,
            "overflow_y": null,
            "overflow_x": null,
            "grid_auto_flow": null,
            "grid_area": null,
            "grid_template_columns": null,
            "flex": null,
            "_model_name": "LayoutModel",
            "justify_items": null,
            "grid_row": null,
            "max_height": null,
            "align_content": null,
            "visibility": null,
            "align_self": null,
            "height": null,
            "min_height": null,
            "padding": null,
            "grid_auto_rows": null,
            "grid_gap": null,
            "max_width": null,
            "order": null,
            "_view_module_version": "1.2.0",
            "grid_template_areas": null,
            "object_position": null,
            "object_fit": null,
            "grid_auto_columns": null,
            "margin": null,
            "display": null,
            "left": null
          }
        }
      }
    }
  },
  "cells": [
    {
      "cell_type": "code",
      "metadata": {
        "id": "K0qbtT8Q4eON"
      },
      "source": [
        "%matplotlib inline"
      ],
      "execution_count": 1,
      "outputs": []
    },
    {
      "cell_type": "code",
      "metadata": {
        "id": "e9sK9hUjjc6g"
      },
      "source": [
        "import torch\n",
        "import torchvision\n",
        "import torchvision.transforms as transforms"
      ],
      "execution_count": 2,
      "outputs": []
    },
    {
      "cell_type": "code",
      "metadata": {
        "colab": {
          "base_uri": "https://localhost:8080/"
        },
        "id": "O-Ewmca-jmk1",
        "outputId": "128dbc87-d6a5-49d6-bc36-148196cac147"
      },
      "source": [
        "device = torch.device(\"cuda:0\" if torch.cuda.is_available() else \"cpu\")\n",
        "\n",
        "# Assuming that we are on a CUDA machine, this should print a CUDA device:\n",
        "print(device)"
      ],
      "execution_count": 3,
      "outputs": [
        {
          "output_type": "stream",
          "text": [
            "cuda:0\n"
          ],
          "name": "stdout"
        }
      ]
    },
    {
      "cell_type": "code",
      "metadata": {
        "colab": {
          "base_uri": "https://localhost:8080/",
          "height": 116,
          "referenced_widgets": [
            "5b78c99f60ce442bbc88beb904d8009a",
            "0578fa4d7a694312b2c58a655a6029bd",
            "f57c7e58ebea448dbd77a28abba61bf4",
            "103f25a69b3d4fcaafe9a020a68d735d",
            "222876c01f39426795f8e7f6f02664f2",
            "107dc20a8eac40cc960522e4493fee31",
            "0dcc294e16674c35b4f5c0f10eba85d0",
            "0d53abb772224df4b30b2d0671e954a4"
          ]
        },
        "id": "_2uQbnenjzTk",
        "outputId": "a9b6b3b9-b511-4714-983f-3f4c8b16f47c"
      },
      "source": [
        "transform = transforms.Compose(\n",
        "    [transforms.ToTensor(),\n",
        "     transforms.Normalize((0.5, 0.5, 0.5), (0.5, 0.5, 0.5)),\n",
        "     transforms.RandomHorizontalFlip(p=1),\n",
        "     transforms.RandomVerticalFlip(p=1),\n",
        "     transforms.RandomRotation(degrees = 45)\n",
        "     ])\n",
        "\n",
        "# transform_test=[transforms.ToTensor(),\n",
        "#                 transforms.Normalize((0.5,0.5,0.5),(0.5,0.5,0.5))]\n",
        "\n",
        "trainset = torchvision.datasets.CIFAR10(root='./data', train=True,\n",
        "                                        download=True, transform=transform)\n",
        "trainloader = torch.utils.data.DataLoader(trainset, batch_size=4,\n",
        "                                          shuffle=True, num_workers=2)\n",
        "\n",
        "testset = torchvision.datasets.CIFAR10(root='./data', train=False,\n",
        "                                       download=True, transform=transform)\n",
        "testloader = torch.utils.data.DataLoader(testset, batch_size=4,\n",
        "                                         shuffle=False, num_workers=2)\n",
        "\n",
        "classes = ('plane', 'car', 'bird', 'cat',\n",
        "           'deer', 'dog', 'frog', 'horse', 'ship', 'truck')\n"
      ],
      "execution_count": 4,
      "outputs": [
        {
          "output_type": "stream",
          "text": [
            "Downloading https://www.cs.toronto.edu/~kriz/cifar-10-python.tar.gz to ./data/cifar-10-python.tar.gz\n"
          ],
          "name": "stdout"
        },
        {
          "output_type": "display_data",
          "data": {
            "application/vnd.jupyter.widget-view+json": {
              "model_id": "5b78c99f60ce442bbc88beb904d8009a",
              "version_minor": 0,
              "version_major": 2
            },
            "text/plain": [
              "HBox(children=(FloatProgress(value=0.0, max=170498071.0), HTML(value='')))"
            ]
          },
          "metadata": {
            "tags": []
          }
        },
        {
          "output_type": "stream",
          "text": [
            "\n",
            "Extracting ./data/cifar-10-python.tar.gz to ./data\n",
            "Files already downloaded and verified\n"
          ],
          "name": "stdout"
        }
      ]
    },
    {
      "cell_type": "code",
      "metadata": {
        "colab": {
          "base_uri": "https://localhost:8080/",
          "height": 155
        },
        "id": "WQPpMUsUj5uH",
        "outputId": "300ab8a6-fd77-47e8-d547-bd79c9807b49"
      },
      "source": [
        "import matplotlib.pyplot as plt\n",
        "import numpy as np\n",
        "\n",
        "# functions to show an image\n",
        "\n",
        "\n",
        "def imshow(img):\n",
        "    img = img / 2 + 0.5     # unnormalize\n",
        "    npimg = img.numpy()\n",
        "    plt.imshow(np.transpose(npimg, (1, 2, 0)))\n",
        "    plt.show()\n",
        "\n",
        "\n",
        "# get some random training images\n",
        "dataiter = iter(trainloader)\n",
        "images, labels = dataiter.next()\n",
        "\n",
        "# show images\n",
        "imshow(torchvision.utils.make_grid(images))\n",
        "# print labels\n",
        "print(' '.join('%5s' % classes[labels[j]] for j in range(4)))\n",
        "\n"
      ],
      "execution_count": 5,
      "outputs": [
        {
          "output_type": "display_data",
          "data": {
            "image/png": "[encoded data removed]",
            "text/plain": [
              "<Figure size 432x288 with 1 Axes>"
            ]
          },
          "metadata": {
            "tags": [],
            "needs_background": "light"
          }
        },
        {
          "output_type": "stream",
          "text": [
            " frog plane  ship horse\n"
          ],
          "name": "stdout"
        }
      ]
    },
    {
      "cell_type": "code",
      "metadata": {
        "colab": {
          "base_uri": "https://localhost:8080/"
        },
        "id": "twJZ13H-QJH_",
        "outputId": "28d103af-2f38-48a2-9345-e5b666f66b13"
      },
      "source": [
        "for i, data in enumerate(trainloader, 0):\n",
        "  inputs, labels = data[0].to(device), data[1].to(device)\n",
        "\n",
        "inputs.shape"
      ],
      "execution_count": 6,
      "outputs": [
        {
          "output_type": "execute_result",
          "data": {
            "text/plain": [
              "torch.Size([4, 3, 32, 32])"
            ]
          },
          "metadata": {
            "tags": []
          },
          "execution_count": 6
        }
      ]
    },
    {
      "cell_type": "code",
      "metadata": {
        "id": "b6tZ-jh5kRUK",
        "colab": {
          "base_uri": "https://localhost:8080/"
        },
        "outputId": "2e7e3b8e-8914-4ea1-ec8c-be9e48aee7b3"
      },
      "source": [
        "import torch.nn as nn\n",
        "import torch.nn.functional as F\n",
        "\n",
        "\n",
        "class Net(nn.Module):\n",
        "    def __init__(self):\n",
        "        super(Net, self).__init__()\n",
        "        self.conv1 = nn.Conv2d(3, 64, 5)\n",
        "        self.pool = nn.MaxPool2d(2, 2)\n",
        "        self.conv2 = nn.Conv2d(64, 128, 5)\n",
        "        self.fc1 = nn.Linear(128*5*5, 1600)\n",
        "        self.fc2 = nn.Linear(1600, 800)\n",
        "        self.fc3 = nn.Linear(800,400)\n",
        "        self.fc4 = nn.Linear(400,200)\n",
        "        self.fc5 = nn.Linear(200,100)\n",
        "        self.fc6 = nn.Linear(100, 50)\n",
        "        self.fc7 = nn.Linear(50, 10)\n",
        "        self.dropout = nn.Dropout(p=0.1)\n",
        "        \n",
        "\n",
        "    def forward(self, x):\n",
        "        x = self.pool(F.relu(self.conv1(x)))\n",
        "        x = self.pool(F.relu(self.conv2(x)))\n",
        "        x = x.view(-1, 128*5*5)\n",
        "        x = F.relu(self.fc1(x))\n",
        "        x = F.relu(self.fc2(x))\n",
        "        x = F.relu(self.fc3(x))\n",
        "        x = self.dropout(x)\n",
        "        x = F.relu(self.fc4(x))\n",
        "        x = F.relu(self.fc5(x))\n",
        "        x = self.dropout(x)\n",
        "        x = F.relu(self.fc6(x))\n",
        "        x = self.fc7(x)\n",
        "        return x\n",
        "\n",
        "\n",
        "net = Net()\n",
        "net=net.to(device)\n",
        "print(net)"
      ],
      "execution_count": 7,
      "outputs": [
        {
          "output_type": "stream",
          "text": [
            "Net(\n",
            "  (conv1): Conv2d(3, 64, kernel_size=(5, 5), stride=(1, 1))\n",
            "  (pool): MaxPool2d(kernel_size=2, stride=2, padding=0, dilation=1, ceil_mode=False)\n",
            "  (conv2): Conv2d(64, 128, kernel_size=(5, 5), stride=(1, 1))\n",
            "  (fc1): Linear(in_features=3200, out_features=1600, bias=True)\n",
            "  (fc2): Linear(in_features=1600, out_features=800, bias=True)\n",
            "  (fc3): Linear(in_features=800, out_features=400, bias=True)\n",
            "  (fc4): Linear(in_features=400, out_features=200, bias=True)\n",
            "  (fc5): Linear(in_features=200, out_features=100, bias=True)\n",
            "  (fc6): Linear(in_features=100, out_features=50, bias=True)\n",
            "  (fc7): Linear(in_features=50, out_features=10, bias=True)\n",
            "  (dropout): Dropout(p=0.1, inplace=False)\n",
            ")\n"
          ],
          "name": "stdout"
        }
      ]
    },
    {
      "cell_type": "code",
      "metadata": {
        "id": "6VFuvEfwkWHK"
      },
      "source": [
        "import torch.optim as optim\n",
        "\n",
        "criterion = nn.CrossEntropyLoss()\n",
        "optimizer = optim.SGD(net.parameters(), lr=0.001, momentum=0.9)"
      ],
      "execution_count": 8,
      "outputs": []
    },
    {
      "cell_type": "code",
      "metadata": {
        "colab": {
          "base_uri": "https://localhost:8080/"
        },
        "id": "5itTjkGukY3h",
        "outputId": "efadb4c4-9018-4f30-f9bc-9393396650aa"
      },
      "source": [
        "# PATH='./cifar_net.pth'\n",
        "# nettorch.load(PATH)\n",
        "\n",
        "for epoch in range(50):  # loop over the dataset multiple times\n",
        "\n",
        "    running_loss = 0.0\n",
        "    total_train = 0\n",
        "    correct_train = 0\n",
        "    for i, data in enumerate(trainloader, 0):\n",
        "        # get the inputs; data is a list of [inputs, labels]\n",
        "        inputs, labels = data[0].to(device), data[1].to(device)\n",
        "\n",
        "        # zero the parameter gradients\n",
        "        optimizer.zero_grad()\n",
        "\n",
        "        # forward + backward + optimize\n",
        "        outputs = net(inputs)\n",
        "        loss = criterion(outputs, labels)\n",
        "        loss.backward()\n",
        "        optimizer.step()\n",
        "\n",
        "        # print statistics\n",
        "        running_loss += loss.item()\n",
        "\n",
        "        # accuracy source: https://discuss.pytorch.org/t/calculate-train-accuracy-of-the-model-in-segmentation-task/33581\n",
        "        _, predicted = torch.max(outputs.data, 1)\n",
        "        total_train += labels.size(0)\n",
        "        correct_train += predicted.eq(labels).sum().item()\n",
        "        train_accuracy = 100 * correct_train / total_train\n",
        "        #avg_accuracy = train_accuracy / len(train_loader)\n",
        "\n",
        "\n",
        "        if i % 2000 == 1999:    # print every 2000 mini-batches\n",
        "            print('[%d, %5d] loss: %.3f' %\n",
        "                  (epoch + 1, i + 1, running_loss / 2000))\n",
        "            print(\"training accuracy : \",train_accuracy)\n",
        "            running_loss = 0.0\n",
        "\n",
        "print('Finished Training')"
      ],
      "execution_count": 9,
      "outputs": [
        {
          "output_type": "stream",
          "text": [
            "[1,  2000] loss: 2.304\n",
            "training accuracy :  10.35\n",
            "[1,  4000] loss: 2.303\n",
            "training accuracy :  10.075\n",
            "[1,  6000] loss: 2.302\n",
            "training accuracy :  10.233333333333333\n",
            "[1,  8000] loss: 2.278\n",
            "training accuracy :  11.08125\n",
            "[1, 10000] loss: 2.068\n",
            "training accuracy :  12.5025\n",
            "[1, 12000] loss: 1.978\n",
            "training accuracy :  14.08125\n",
            "[2,  2000] loss: 1.888\n",
            "training accuracy :  24.6375\n",
            "[2,  4000] loss: 1.834\n",
            "training accuracy :  25.99375\n",
            "[2,  6000] loss: 1.785\n",
            "training accuracy :  27.3125\n",
            "[2,  8000] loss: 1.768\n",
            "training accuracy :  28.525\n",
            "[2, 10000] loss: 1.706\n",
            "training accuracy :  29.6025\n",
            "[2, 12000] loss: 1.653\n",
            "training accuracy :  30.6375\n",
            "[3,  2000] loss: 1.605\n",
            "training accuracy :  39.2875\n",
            "[3,  4000] loss: 1.565\n",
            "training accuracy :  40.2625\n",
            "[3,  6000] loss: 1.544\n",
            "training accuracy :  41.02916666666667\n",
            "[3,  8000] loss: 1.515\n",
            "training accuracy :  41.6625\n",
            "[3, 10000] loss: 1.476\n",
            "training accuracy :  42.445\n",
            "[3, 12000] loss: 1.455\n",
            "training accuracy :  43.15416666666667\n",
            "[4,  2000] loss: 1.397\n",
            "training accuracy :  48.1\n",
            "[4,  4000] loss: 1.364\n",
            "training accuracy :  49.50625\n",
            "[4,  6000] loss: 1.335\n",
            "training accuracy :  50.233333333333334\n",
            "[4,  8000] loss: 1.356\n",
            "training accuracy :  50.584375\n",
            "[4, 10000] loss: 1.309\n",
            "training accuracy :  50.9775\n",
            "[4, 12000] loss: 1.312\n",
            "training accuracy :  51.44166666666667\n",
            "[5,  2000] loss: 1.241\n",
            "training accuracy :  55.875\n",
            "[5,  4000] loss: 1.236\n",
            "training accuracy :  55.95625\n",
            "[5,  6000] loss: 1.222\n",
            "training accuracy :  56.083333333333336\n",
            "[5,  8000] loss: 1.199\n",
            "training accuracy :  56.496875\n",
            "[5, 10000] loss: 1.180\n",
            "training accuracy :  57.0025\n",
            "[5, 12000] loss: 1.170\n",
            "training accuracy :  57.37708333333333\n",
            "[6,  2000] loss: 1.132\n",
            "training accuracy :  60.775\n",
            "[6,  4000] loss: 1.113\n",
            "training accuracy :  60.825\n",
            "[6,  6000] loss: 1.095\n",
            "training accuracy :  61.0625\n",
            "[6,  8000] loss: 1.112\n",
            "training accuracy :  61.21875\n",
            "[6, 10000] loss: 1.081\n",
            "training accuracy :  61.515\n",
            "[6, 12000] loss: 1.069\n",
            "training accuracy :  61.75833333333333\n",
            "[7,  2000] loss: 1.007\n",
            "training accuracy :  65.2625\n",
            "[7,  4000] loss: 1.011\n",
            "training accuracy :  65.025\n",
            "[7,  6000] loss: 1.019\n",
            "training accuracy :  65.04166666666667\n",
            "[7,  8000] loss: 1.009\n",
            "training accuracy :  65.19375\n",
            "[7, 10000] loss: 0.996\n",
            "training accuracy :  65.2075\n",
            "[7, 12000] loss: 1.029\n",
            "training accuracy :  65.14583333333333\n",
            "[8,  2000] loss: 0.946\n",
            "training accuracy :  67.375\n",
            "[8,  4000] loss: 0.897\n",
            "training accuracy :  68.2375\n",
            "[8,  6000] loss: 0.942\n",
            "training accuracy :  68.16666666666667\n",
            "[8,  8000] loss: 0.952\n",
            "training accuracy :  68.025\n",
            "[8, 10000] loss: 0.936\n",
            "training accuracy :  68.07\n",
            "[8, 12000] loss: 0.951\n",
            "training accuracy :  68.09166666666667\n",
            "[9,  2000] loss: 0.877\n",
            "training accuracy :  70.3875\n",
            "[9,  4000] loss: 0.871\n",
            "training accuracy :  70.58125\n",
            "[9,  6000] loss: 0.844\n",
            "training accuracy :  70.9375\n",
            "[9,  8000] loss: 0.878\n",
            "training accuracy :  70.58125\n",
            "[9, 10000] loss: 0.891\n",
            "training accuracy :  70.3825\n",
            "[9, 12000] loss: 0.877\n",
            "training accuracy :  70.40208333333334\n",
            "[10,  2000] loss: 0.796\n",
            "training accuracy :  72.6\n",
            "[10,  4000] loss: 0.803\n",
            "training accuracy :  72.9375\n",
            "[10,  6000] loss: 0.813\n",
            "training accuracy :  72.80416666666666\n",
            "[10,  8000] loss: 0.815\n",
            "training accuracy :  72.8\n",
            "[10, 10000] loss: 0.819\n",
            "training accuracy :  72.7275\n",
            "[10, 12000] loss: 0.824\n",
            "training accuracy :  72.62708333333333\n",
            "[11,  2000] loss: 0.745\n",
            "training accuracy :  74.7875\n",
            "[11,  4000] loss: 0.755\n",
            "training accuracy :  74.49375\n",
            "[11,  6000] loss: 0.752\n",
            "training accuracy :  74.50416666666666\n",
            "[11,  8000] loss: 0.763\n",
            "training accuracy :  74.371875\n",
            "[11, 10000] loss: 0.775\n",
            "training accuracy :  74.2475\n",
            "[11, 12000] loss: 0.783\n",
            "training accuracy :  74.07916666666667\n",
            "[12,  2000] loss: 0.682\n",
            "training accuracy :  76.875\n",
            "[12,  4000] loss: 0.717\n",
            "training accuracy :  76.36875\n",
            "[12,  6000] loss: 0.715\n",
            "training accuracy :  76.07083333333334\n",
            "[12,  8000] loss: 0.719\n",
            "training accuracy :  76.04375\n",
            "[12, 10000] loss: 0.710\n",
            "training accuracy :  75.965\n",
            "[12, 12000] loss: 0.740\n",
            "training accuracy :  75.84583333333333\n",
            "[13,  2000] loss: 0.625\n",
            "training accuracy :  79.3875\n",
            "[13,  4000] loss: 0.637\n",
            "training accuracy :  78.9625\n",
            "[13,  6000] loss: 0.660\n",
            "training accuracy :  78.5375\n",
            "[13,  8000] loss: 0.675\n",
            "training accuracy :  78.059375\n",
            "[13, 10000] loss: 0.658\n",
            "training accuracy :  77.9725\n",
            "[13, 12000] loss: 0.691\n",
            "training accuracy :  77.74375\n",
            "[14,  2000] loss: 0.614\n",
            "training accuracy :  79.1\n",
            "[14,  4000] loss: 0.618\n",
            "training accuracy :  79.00625\n",
            "[14,  6000] loss: 0.616\n",
            "training accuracy :  79.1125\n",
            "[14,  8000] loss: 0.637\n",
            "training accuracy :  78.984375\n",
            "[14, 10000] loss: 0.632\n",
            "training accuracy :  78.9125\n",
            "[14, 12000] loss: 0.640\n",
            "training accuracy :  78.86458333333333\n",
            "[15,  2000] loss: 0.556\n",
            "training accuracy :  81.0125\n",
            "[15,  4000] loss: 0.561\n",
            "training accuracy :  81.075\n",
            "[15,  6000] loss: 0.568\n",
            "training accuracy :  81.15416666666667\n",
            "[15,  8000] loss: 0.590\n",
            "training accuracy :  80.95\n",
            "[15, 10000] loss: 0.595\n",
            "training accuracy :  80.705\n",
            "[15, 12000] loss: 0.593\n",
            "training accuracy :  80.55208333333333\n",
            "[16,  2000] loss: 0.521\n",
            "training accuracy :  82.7125\n",
            "[16,  4000] loss: 0.540\n",
            "training accuracy :  82.3\n",
            "[16,  6000] loss: 0.536\n",
            "training accuracy :  82.03333333333333\n",
            "[16,  8000] loss: 0.534\n",
            "training accuracy :  82.08125\n",
            "[16, 10000] loss: 0.566\n",
            "training accuracy :  81.915\n",
            "[16, 12000] loss: 0.547\n",
            "training accuracy :  81.90833333333333\n",
            "[17,  2000] loss: 0.482\n",
            "training accuracy :  83.7\n",
            "[17,  4000] loss: 0.499\n",
            "training accuracy :  83.675\n",
            "[17,  6000] loss: 0.513\n",
            "training accuracy :  83.375\n",
            "[17,  8000] loss: 0.510\n",
            "training accuracy :  83.24375\n",
            "[17, 10000] loss: 0.511\n",
            "training accuracy :  83.1475\n",
            "[17, 12000] loss: 0.519\n",
            "training accuracy :  83.03333333333333\n",
            "[18,  2000] loss: 0.429\n",
            "training accuracy :  85.45\n",
            "[18,  4000] loss: 0.469\n",
            "training accuracy :  84.85\n",
            "[18,  6000] loss: 0.466\n",
            "training accuracy :  84.80416666666666\n",
            "[18,  8000] loss: 0.480\n",
            "training accuracy :  84.64375\n",
            "[18, 10000] loss: 0.496\n",
            "training accuracy :  84.43\n",
            "[18, 12000] loss: 0.519\n",
            "training accuracy :  84.15\n",
            "[19,  2000] loss: 0.445\n",
            "training accuracy :  85.1125\n",
            "[19,  4000] loss: 0.415\n",
            "training accuracy :  85.75\n",
            "[19,  6000] loss: 0.422\n",
            "training accuracy :  85.64583333333333\n",
            "[19,  8000] loss: 0.455\n",
            "training accuracy :  85.446875\n",
            "[19, 10000] loss: 0.456\n",
            "training accuracy :  85.3675\n",
            "[19, 12000] loss: 0.465\n",
            "training accuracy :  85.26875\n",
            "[20,  2000] loss: 0.405\n",
            "training accuracy :  86.425\n",
            "[20,  4000] loss: 0.387\n",
            "training accuracy :  86.89375\n",
            "[20,  6000] loss: 0.408\n",
            "training accuracy :  86.6\n",
            "[20,  8000] loss: 0.433\n",
            "training accuracy :  86.534375\n",
            "[20, 10000] loss: 0.405\n",
            "training accuracy :  86.53\n",
            "[20, 12000] loss: 0.435\n",
            "training accuracy :  86.38333333333334\n",
            "[21,  2000] loss: 0.355\n",
            "training accuracy :  88.725\n",
            "[21,  4000] loss: 0.383\n",
            "training accuracy :  88.13125\n",
            "[21,  6000] loss: 0.375\n",
            "training accuracy :  87.88333333333334\n",
            "[21,  8000] loss: 0.407\n",
            "training accuracy :  87.55625\n",
            "[21, 10000] loss: 0.397\n",
            "training accuracy :  87.38\n",
            "[21, 12000] loss: 0.401\n",
            "training accuracy :  87.25208333333333\n",
            "[22,  2000] loss: 0.357\n",
            "training accuracy :  88.225\n",
            "[22,  4000] loss: 0.347\n",
            "training accuracy :  88.21875\n",
            "[22,  6000] loss: 0.369\n",
            "training accuracy :  88.08333333333333\n",
            "[22,  8000] loss: 0.386\n",
            "training accuracy :  87.853125\n",
            "[22, 10000] loss: 0.377\n",
            "training accuracy :  87.7775\n",
            "[22, 12000] loss: 0.381\n",
            "training accuracy :  87.63541666666667\n",
            "[23,  2000] loss: 0.322\n",
            "training accuracy :  89.125\n",
            "[23,  4000] loss: 0.340\n",
            "training accuracy :  88.70625\n",
            "[23,  6000] loss: 0.333\n",
            "training accuracy :  88.82083333333334\n",
            "[23,  8000] loss: 0.334\n",
            "training accuracy :  88.934375\n",
            "[23, 10000] loss: 0.365\n",
            "training accuracy :  88.76\n",
            "[23, 12000] loss: 0.359\n",
            "training accuracy :  88.64375\n",
            "[24,  2000] loss: 0.310\n",
            "training accuracy :  90.0875\n",
            "[24,  4000] loss: 0.304\n",
            "training accuracy :  90.0125\n",
            "[24,  6000] loss: 0.331\n",
            "training accuracy :  89.675\n",
            "[24,  8000] loss: 0.325\n",
            "training accuracy :  89.528125\n",
            "[24, 10000] loss: 0.346\n",
            "training accuracy :  89.375\n",
            "[24, 12000] loss: 0.330\n",
            "training accuracy :  89.37083333333334\n",
            "[25,  2000] loss: 0.281\n",
            "training accuracy :  91.025\n",
            "[25,  4000] loss: 0.312\n",
            "training accuracy :  90.3375\n",
            "[25,  6000] loss: 0.279\n",
            "training accuracy :  90.52083333333333\n",
            "[25,  8000] loss: 0.286\n",
            "training accuracy :  90.55\n",
            "[25, 10000] loss: 0.294\n",
            "training accuracy :  90.4575\n",
            "[25, 12000] loss: 0.325\n",
            "training accuracy :  90.29375\n",
            "[26,  2000] loss: 0.272\n",
            "training accuracy :  90.8125\n",
            "[26,  4000] loss: 0.272\n",
            "training accuracy :  90.9625\n",
            "[26,  6000] loss: 0.287\n",
            "training accuracy :  90.8625\n",
            "[26,  8000] loss: 0.291\n",
            "training accuracy :  90.83125\n",
            "[26, 10000] loss: 0.291\n",
            "training accuracy :  90.7525\n",
            "[26, 12000] loss: 0.304\n",
            "training accuracy :  90.55208333333333\n",
            "[27,  2000] loss: 0.257\n",
            "training accuracy :  91.5125\n",
            "[27,  4000] loss: 0.237\n",
            "training accuracy :  91.80625\n",
            "[27,  6000] loss: 0.266\n",
            "training accuracy :  91.62083333333334\n",
            "[27,  8000] loss: 0.268\n",
            "training accuracy :  91.446875\n",
            "[27, 10000] loss: 0.274\n",
            "training accuracy :  91.3175\n",
            "[27, 12000] loss: 0.282\n",
            "training accuracy :  91.30416666666666\n",
            "[28,  2000] loss: 0.241\n",
            "training accuracy :  92.2625\n",
            "[28,  4000] loss: 0.232\n",
            "training accuracy :  92.19375\n",
            "[28,  6000] loss: 0.237\n",
            "training accuracy :  92.32083333333334\n",
            "[28,  8000] loss: 0.265\n",
            "training accuracy :  92.125\n",
            "[28, 10000] loss: 0.260\n",
            "training accuracy :  91.9975\n",
            "[28, 12000] loss: 0.268\n",
            "training accuracy :  91.86458333333333\n",
            "[29,  2000] loss: 0.223\n",
            "training accuracy :  92.7875\n",
            "[29,  4000] loss: 0.240\n",
            "training accuracy :  92.625\n",
            "[29,  6000] loss: 0.235\n",
            "training accuracy :  92.59583333333333\n",
            "[29,  8000] loss: 0.234\n",
            "training accuracy :  92.546875\n",
            "[29, 10000] loss: 0.226\n",
            "training accuracy :  92.5325\n",
            "[29, 12000] loss: 0.252\n",
            "training accuracy :  92.41458333333334\n",
            "[30,  2000] loss: 0.210\n",
            "training accuracy :  92.9\n",
            "[30,  4000] loss: 0.231\n",
            "training accuracy :  92.6125\n",
            "[30,  6000] loss: 0.216\n",
            "training accuracy :  92.80416666666666\n",
            "[30,  8000] loss: 0.234\n",
            "training accuracy :  92.690625\n",
            "[30, 10000] loss: 0.222\n",
            "training accuracy :  92.715\n",
            "[30, 12000] loss: 0.229\n",
            "training accuracy :  92.64791666666666\n",
            "[31,  2000] loss: 0.209\n",
            "training accuracy :  93.2\n",
            "[31,  4000] loss: 0.213\n",
            "training accuracy :  93.1875\n",
            "[31,  6000] loss: 0.218\n",
            "training accuracy :  93.22083333333333\n",
            "[31,  8000] loss: 0.221\n",
            "training accuracy :  93.125\n",
            "[31, 10000] loss: 0.223\n",
            "training accuracy :  93.0375\n",
            "[31, 12000] loss: 0.217\n",
            "training accuracy :  92.99375\n",
            "[32,  2000] loss: 0.193\n",
            "training accuracy :  94.0375\n",
            "[32,  4000] loss: 0.195\n",
            "training accuracy :  93.84375\n",
            "[32,  6000] loss: 0.215\n",
            "training accuracy :  93.55833333333334\n",
            "[32,  8000] loss: 0.201\n",
            "training accuracy :  93.559375\n",
            "[32, 10000] loss: 0.197\n",
            "training accuracy :  93.5525\n",
            "[32, 12000] loss: 0.221\n",
            "training accuracy :  93.40833333333333\n",
            "[33,  2000] loss: 0.197\n",
            "training accuracy :  93.775\n",
            "[33,  4000] loss: 0.190\n",
            "training accuracy :  93.65\n",
            "[33,  6000] loss: 0.201\n",
            "training accuracy :  93.59166666666667\n",
            "[33,  8000] loss: 0.187\n",
            "training accuracy :  93.63125\n",
            "[33, 10000] loss: 0.208\n",
            "training accuracy :  93.5375\n",
            "[33, 12000] loss: 0.219\n",
            "training accuracy :  93.45\n",
            "[34,  2000] loss: 0.176\n",
            "training accuracy :  94.4125\n",
            "[34,  4000] loss: 0.177\n",
            "training accuracy :  94.525\n",
            "[34,  6000] loss: 0.175\n",
            "training accuracy :  94.44583333333334\n",
            "[34,  8000] loss: 0.187\n",
            "training accuracy :  94.2625\n",
            "[34, 10000] loss: 0.185\n",
            "training accuracy :  94.27\n",
            "[34, 12000] loss: 0.196\n",
            "training accuracy :  94.12083333333334\n",
            "[35,  2000] loss: 0.165\n",
            "training accuracy :  94.7875\n",
            "[35,  4000] loss: 0.172\n",
            "training accuracy :  94.66875\n",
            "[35,  6000] loss: 0.170\n",
            "training accuracy :  94.6875\n",
            "[35,  8000] loss: 0.176\n",
            "training accuracy :  94.575\n",
            "[35, 10000] loss: 0.171\n",
            "training accuracy :  94.4875\n",
            "[35, 12000] loss: 0.174\n",
            "training accuracy :  94.43541666666667\n",
            "[36,  2000] loss: 0.151\n",
            "training accuracy :  95.275\n",
            "[36,  4000] loss: 0.141\n",
            "training accuracy :  95.3875\n",
            "[36,  6000] loss: 0.161\n",
            "training accuracy :  95.25416666666666\n",
            "[36,  8000] loss: 0.173\n",
            "training accuracy :  95.021875\n",
            "[36, 10000] loss: 0.161\n",
            "training accuracy :  94.97\n",
            "[36, 12000] loss: 0.167\n",
            "training accuracy :  94.86458333333333\n",
            "[37,  2000] loss: 0.151\n",
            "training accuracy :  95.1125\n",
            "[37,  4000] loss: 0.161\n",
            "training accuracy :  95.0\n",
            "[37,  6000] loss: 0.165\n",
            "training accuracy :  94.84583333333333\n",
            "[37,  8000] loss: 0.165\n",
            "training accuracy :  94.79375\n",
            "[37, 10000] loss: 0.158\n",
            "training accuracy :  94.8225\n",
            "[37, 12000] loss: 0.160\n",
            "training accuracy :  94.80625\n",
            "[38,  2000] loss: 0.140\n",
            "training accuracy :  95.375\n",
            "[38,  4000] loss: 0.147\n",
            "training accuracy :  95.3\n",
            "[38,  6000] loss: 0.146\n",
            "training accuracy :  95.31666666666666\n",
            "[38,  8000] loss: 0.154\n",
            "training accuracy :  95.25\n",
            "[38, 10000] loss: 0.146\n",
            "training accuracy :  95.1975\n",
            "[38, 12000] loss: 0.160\n",
            "training accuracy :  95.125\n",
            "[39,  2000] loss: 0.150\n",
            "training accuracy :  95.2\n",
            "[39,  4000] loss: 0.139\n",
            "training accuracy :  95.4375\n",
            "[39,  6000] loss: 0.148\n",
            "training accuracy :  95.4\n",
            "[39,  8000] loss: 0.132\n",
            "training accuracy :  95.475\n",
            "[39, 10000] loss: 0.149\n",
            "training accuracy :  95.41\n",
            "[39, 12000] loss: 0.153\n",
            "training accuracy :  95.33541666666666\n",
            "[40,  2000] loss: 0.139\n",
            "training accuracy :  95.425\n",
            "[40,  4000] loss: 0.132\n",
            "training accuracy :  95.59375\n",
            "[40,  6000] loss: 0.144\n",
            "training accuracy :  95.575\n",
            "[40,  8000] loss: 0.141\n",
            "training accuracy :  95.540625\n",
            "[40, 10000] loss: 0.140\n",
            "training accuracy :  95.4725\n",
            "[40, 12000] loss: 0.139\n",
            "training accuracy :  95.4875\n",
            "[41,  2000] loss: 0.116\n",
            "training accuracy :  96.25\n",
            "[41,  4000] loss: 0.126\n",
            "training accuracy :  96.11875\n",
            "[41,  6000] loss: 0.133\n",
            "training accuracy :  95.975\n",
            "[41,  8000] loss: 0.131\n",
            "training accuracy :  95.946875\n",
            "[41, 10000] loss: 0.144\n",
            "training accuracy :  95.8625\n",
            "[41, 12000] loss: 0.129\n",
            "training accuracy :  95.90625\n",
            "[42,  2000] loss: 0.113\n",
            "training accuracy :  96.575\n",
            "[42,  4000] loss: 0.130\n",
            "training accuracy :  96.28125\n",
            "[42,  6000] loss: 0.118\n",
            "training accuracy :  96.22083333333333\n",
            "[42,  8000] loss: 0.130\n",
            "training accuracy :  96.075\n",
            "[42, 10000] loss: 0.125\n",
            "training accuracy :  96.065\n",
            "[42, 12000] loss: 0.129\n",
            "training accuracy :  96.05625\n",
            "[43,  2000] loss: 0.106\n",
            "training accuracy :  96.725\n",
            "[43,  4000] loss: 0.124\n",
            "training accuracy :  96.34375\n",
            "[43,  6000] loss: 0.129\n",
            "training accuracy :  96.26666666666667\n",
            "[43,  8000] loss: 0.118\n",
            "training accuracy :  96.20625\n",
            "[43, 10000] loss: 0.122\n",
            "training accuracy :  96.185\n",
            "[43, 12000] loss: 0.132\n",
            "training accuracy :  96.14166666666667\n",
            "[44,  2000] loss: 0.108\n",
            "training accuracy :  96.525\n",
            "[44,  4000] loss: 0.117\n",
            "training accuracy :  96.3375\n",
            "[44,  6000] loss: 0.119\n",
            "training accuracy :  96.32916666666667\n",
            "[44,  8000] loss: 0.122\n",
            "training accuracy :  96.246875\n",
            "[44, 10000] loss: 0.110\n",
            "training accuracy :  96.275\n",
            "[44, 12000] loss: 0.125\n",
            "training accuracy :  96.20208333333333\n",
            "[45,  2000] loss: 0.096\n",
            "training accuracy :  96.8375\n",
            "[45,  4000] loss: 0.106\n",
            "training accuracy :  96.6375\n",
            "[45,  6000] loss: 0.115\n",
            "training accuracy :  96.49166666666666\n",
            "[45,  8000] loss: 0.116\n",
            "training accuracy :  96.396875\n",
            "[45, 10000] loss: 0.116\n",
            "training accuracy :  96.3575\n",
            "[45, 12000] loss: 0.111\n",
            "training accuracy :  96.34583333333333\n",
            "[46,  2000] loss: 0.106\n",
            "training accuracy :  96.6375\n",
            "[46,  4000] loss: 0.100\n",
            "training accuracy :  96.625\n",
            "[46,  6000] loss: 0.114\n",
            "training accuracy :  96.5875\n",
            "[46,  8000] loss: 0.105\n",
            "training accuracy :  96.59375\n",
            "[46, 10000] loss: 0.104\n",
            "training accuracy :  96.61\n",
            "[46, 12000] loss: 0.103\n",
            "training accuracy :  96.625\n",
            "[47,  2000] loss: 0.105\n",
            "training accuracy :  96.9875\n",
            "[47,  4000] loss: 0.108\n",
            "training accuracy :  96.70625\n",
            "[47,  6000] loss: 0.108\n",
            "training accuracy :  96.625\n",
            "[47,  8000] loss: 0.109\n",
            "training accuracy :  96.60625\n",
            "[47, 10000] loss: 0.115\n",
            "training accuracy :  96.555\n",
            "[47, 12000] loss: 0.118\n",
            "training accuracy :  96.48125\n",
            "[48,  2000] loss: 0.087\n",
            "training accuracy :  96.9625\n",
            "[48,  4000] loss: 0.103\n",
            "training accuracy :  96.75625\n",
            "[48,  6000] loss: 0.090\n",
            "training accuracy :  96.93333333333334\n",
            "[48,  8000] loss: 0.105\n",
            "training accuracy :  96.81875\n",
            "[48, 10000] loss: 0.110\n",
            "training accuracy :  96.765\n",
            "[48, 12000] loss: 0.105\n",
            "training accuracy :  96.74166666666666\n",
            "[49,  2000] loss: 0.080\n",
            "training accuracy :  97.55\n",
            "[49,  4000] loss: 0.109\n",
            "training accuracy :  97.00625\n",
            "[49,  6000] loss: 0.086\n",
            "training accuracy :  97.125\n",
            "[49,  8000] loss: 0.105\n",
            "training accuracy :  97.015625\n",
            "[49, 10000] loss: 0.089\n",
            "training accuracy :  97.0225\n",
            "[49, 12000] loss: 0.108\n",
            "training accuracy :  96.9625\n",
            "[50,  2000] loss: 0.085\n",
            "training accuracy :  97.4125\n",
            "[50,  4000] loss: 0.089\n",
            "training accuracy :  97.3\n",
            "[50,  6000] loss: 0.096\n",
            "training accuracy :  97.16666666666667\n",
            "[50,  8000] loss: 0.099\n",
            "training accuracy :  97.096875\n",
            "[50, 10000] loss: 0.085\n",
            "training accuracy :  97.125\n",
            "[50, 12000] loss: 0.092\n",
            "training accuracy :  97.09791666666666\n",
            "Finished Training\n"
          ],
          "name": "stdout"
        }
      ]
    },
    {
      "cell_type": "code",
      "metadata": {
        "id": "B2h2XGQWkc6a"
      },
      "source": [
        "PATH = './cifar_net.pth'\n",
        "torch.save(net.state_dict(), PATH)"
      ],
      "execution_count": 10,
      "outputs": []
    },
    {
      "cell_type": "code",
      "metadata": {
        "colab": {
          "base_uri": "https://localhost:8080/",
          "height": 155
        },
        "id": "MFCGYT8Bk5RS",
        "outputId": "e90032a2-efde-4613-9c0c-a80d2cf71c06"
      },
      "source": [
        "dataiter = iter(testloader)\n",
        "images, labels = dataiter.next()\n",
        "\n",
        "# print images\n",
        "imshow(torchvision.utils.make_grid(images))\n",
        "print('GroundTruth: ', ' '.join('%5s' % classes[labels[j]] for j in range(4)))"
      ],
      "execution_count": 11,
      "outputs": [
        {
          "output_type": "display_data",
          "data": {
            "image/png": "[encoded data removed]",
            "text/plain": [
              "<Figure size 432x288 with 1 Axes>"
            ]
          },
          "metadata": {
            "tags": [],
            "needs_background": "light"
          }
        },
        {
          "output_type": "stream",
          "text": [
            "GroundTruth:    cat  ship  ship plane\n"
          ],
          "name": "stdout"
        }
      ]
    },
    {
      "cell_type": "code",
      "metadata": {
        "colab": {
          "base_uri": "https://localhost:8080/"
        },
        "id": "RYBOXjIllAmr",
        "outputId": "38e1bc80-4cf6-440b-e923-272c136cc245"
      },
      "source": [
        "PATH = './cifar_net.pth'\n",
        "net = Net()\n",
        "net.to(device)\n",
        "nwt=net.to(device)\n",
        "net.load_state_dict(torch.load(PATH))"
      ],
      "execution_count": 12,
      "outputs": [
        {
          "output_type": "execute_result",
          "data": {
            "text/plain": [
              "<All keys matched successfully>"
            ]
          },
          "metadata": {
            "tags": []
          },
          "execution_count": 12
        }
      ]
    },
    {
      "cell_type": "code",
      "metadata": {
        "id": "RMTtuHi_lGGM"
      },
      "source": [
        "outputs = net(images.to(device))"
      ],
      "execution_count": 13,
      "outputs": []
    },
    {
      "cell_type": "code",
      "metadata": {
        "colab": {
          "base_uri": "https://localhost:8080/"
        },
        "id": "xQNd7UnTlIhv",
        "outputId": "5880fa06-87e8-4b9a-c153-4b2a4e490a10"
      },
      "source": [
        "_, predicted = torch.max(outputs, 1)\n",
        "\n",
        "print('Predicted: ', ' '.join('%5s' % classes[predicted[j]]\n",
        "                              for j in range(4)))"
      ],
      "execution_count": 14,
      "outputs": [
        {
          "output_type": "stream",
          "text": [
            "Predicted:    cat  ship   car plane\n"
          ],
          "name": "stdout"
        }
      ]
    },
    {
      "cell_type": "code",
      "metadata": {
        "colab": {
          "base_uri": "https://localhost:8080/"
        },
        "id": "DqlnL8IKlKeo",
        "outputId": "bee88172-ce13-44e4-9076-5809c5d3a49c"
      },
      "source": [
        "correct = 0\n",
        "total = 0\n",
        "with torch.no_grad():\n",
        "    for data in testloader:\n",
        "        images, labels = data\n",
        "        images, labels = images.to(device), labels.to(device)\n",
        "        outputs = net(images)\n",
        "        _, predicted = torch.max(outputs.data, 1)\n",
        "        total += labels.size(0)\n",
        "        correct += (predicted == labels).sum().item()\n",
        "\n",
        "print('Accuracy of the network on the 10000 test images: %d %%' % (\n",
        "    100 * correct / total))"
      ],
      "execution_count": 15,
      "outputs": [
        {
          "output_type": "stream",
          "text": [
            "Accuracy of the network on the 10000 test images: 72 %\n"
          ],
          "name": "stdout"
        }
      ]
    },
    {
      "cell_type": "markdown",
      "metadata": {
        "id": "uP0Vh5EwtGKm"
      },
      "source": [
        "## Attempt 1 (default code):\n",
        "### accuracy = 53%\n",
        "\n",
        "## Attempt 2 :\n",
        "added transforms to image : horizontal flip, vertical flip, rotation by 45 deg\n",
        "(obseverd that accuracy of the car class was 70%)\n",
        "###accuracy 47% ; min loss 1.503\n",
        "\n",
        "##Attempt 3:\n",
        "added one more fully connected layer in the middle\n",
        "\n",
        "accuracy of class car reduced to 38% ; class truck increased to 71%; ship increased to 64%\n",
        "\n",
        "###Accuracy 46% ; min loss 1.511\n",
        "\n",
        "##Attempt 4:\n",
        "increased epochs to 25\n",
        "added train accuracy paramenter\n",
        "###train accuracy 63.29%;test Accuracy 58% ; loss 1.041\n",
        "\n",
        "##Attempt 5:\n",
        "25 epochs with lr 0.001 then 22 epochs with lr 0.0001\n",
        "###train accuracy 71.69% ; loss 0.800; test accuracy 61%\n",
        "\n",
        "##Attempt 6:\n",
        "50 epochs \n",
        "increased the number of nodes.\n",
        "added dropout layer\n",
        "###train accuracy 92.01; min loss : 0.249; test accuracy 69%\n",
        "\n",
        "##Attempt 7:\n",
        "50 epochs\n",
        "Increased number of nodes even more\n",
        "###Train accuracy: 97.09%; Test accuracy 72%; loss:0.092\n"
      ]
    },
    {
      "cell_type": "code",
      "metadata": {
        "colab": {
          "base_uri": "https://localhost:8080/"
        },
        "id": "6K5h3X6fq3k1",
        "outputId": "47efbbb1-a2f1-4dce-a666-934915d046c8"
      },
      "source": [
        "class_correct = list(0. for i in range(10))\n",
        "class_total = list(0. for i in range(10))\n",
        "# avg=0\n",
        "with torch.no_grad():\n",
        "    for data in testloader:\n",
        "        images, labels = data\n",
        "        images, labels = images.to(device), labels.to(device)\n",
        "\n",
        "        outputs = net(images)\n",
        "        _, predicted = torch.max(outputs, 1)\n",
        "        c = (predicted == labels).squeeze()\n",
        "        for i in range(4):\n",
        "            label = labels[i]\n",
        "            class_correct[label] += c[i].item()\n",
        "            class_total[label] += 1\n",
        "\n",
        "\n",
        "for i in range(10):\n",
        "    print('Accuracy of %5s : %2d %%' % (\n",
        "        classes[i], 100 * class_correct[i] / class_total[i]))\n",
        "#     avg+=100 * class_correct[i] / class_total[i]\n",
        "# avg=avg/10\n",
        "\n",
        "# print(\"average of 10 classes = \", avg)"
      ],
      "execution_count": 16,
      "outputs": [
        {
          "output_type": "stream",
          "text": [
            "Accuracy of plane : 75 %\n",
            "Accuracy of   car : 82 %\n",
            "Accuracy of  bird : 64 %\n",
            "Accuracy of   cat : 58 %\n",
            "Accuracy of  deer : 66 %\n",
            "Accuracy of   dog : 63 %\n",
            "Accuracy of  frog : 79 %\n",
            "Accuracy of horse : 75 %\n",
            "Accuracy of  ship : 84 %\n",
            "Accuracy of truck : 80 %\n"
          ],
          "name": "stdout"
        }
      ]
    },
    {
      "cell_type": "code",
      "metadata": {
        "id": "vBJ51yLjrJ6e",
        "colab": {
          "base_uri": "https://localhost:8080/",
          "height": 281
        },
        "outputId": "0adf0ff7-456a-4680-e974-6b8872653afb"
      },
      "source": [
        "from matplotlib import pyplot as plt\n",
        "\n",
        "x=[1,2,3,4,5,6,7]\n",
        "testacc=[53,47,46,58,61,69,72]\n",
        "plt.plot(x,testacc)"
      ],
      "execution_count": 17,
      "outputs": [
        {
          "output_type": "execute_result",
          "data": {
            "text/plain": [
              "[<matplotlib.lines.Line2D at 0x7f5943e75ed0>]"
            ]
          },
          "metadata": {
            "tags": []
          },
          "execution_count": 17
        },
        {
          "output_type": "display_data",
          "data": {
            "image/png": "[encoded data removed]",
            "text/plain": [
              "<Figure size 432x288 with 1 Axes>"
            ]
          },
          "metadata": {
            "tags": [],
            "needs_background": "light"
          }
        }
      ]
    },
    {
      "cell_type": "code",
      "metadata": {
        "id": "9k798p-ku88-"
      },
      "source": [
        ""
      ],
      "execution_count": null,
      "outputs": []
    }
  ]
}